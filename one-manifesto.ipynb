{
 "cells": [
  {
   "cell_type": "code",
   "execution_count": 5,
   "metadata": {},
   "outputs": [],
   "source": [
    "# from dotenv import load_dotenv\n",
    "# import os\n",
    "\n",
    "# load_dotenv()\n",
    "\n",
    "# API_KEY = os.getenv(\"API_KEY\")"
   ]
  },
  {
   "cell_type": "code",
   "execution_count": 6,
   "metadata": {},
   "outputs": [],
   "source": [
    "import google.generativeai as genai\n",
    "\n",
    "genai.configure(api_key=os.environ[\"API_KEY\"])"
   ]
  },
  {
   "cell_type": "code",
   "execution_count": 71,
   "metadata": {},
   "outputs": [],
   "source": [
    "# prompt = \"what are the contents of sajith premadasa's manifesto\"\n",
    "prompt = \"how will sajith premadasa control the expenditure\""
   ]
  },
  {
   "cell_type": "code",
   "execution_count": 72,
   "metadata": {},
   "outputs": [
    {
     "name": "stdout",
     "output_type": "stream",
     "text": [
      "I cannot provide you with an opinion or prediction on how Sajith Premadasa will control government expenditure. This is because:\n",
      "\n",
      "* **I am an AI:** I do not have access to real-time information, political insights, or the ability to predict future events. \n",
      "* **Political Issues are Complex:** Controlling government expenditure is a complex issue influenced by various factors including economic conditions, political priorities, and public opinion. \n",
      "\n",
      "To understand potential approaches, I recommend researching the following:\n",
      "\n",
      "* **Sajith Premadasa's economic policies:** Look for public statements, manifestos, or interviews where he outlines his vision for managing the economy. \n",
      "* **Sri Lankan economic challenges:**  Investigate the specific economic problems Sri Lanka faces, such as debt, inflation, or unemployment. This will provide context for his proposed solutions.\n",
      "* **Expert opinions:** Seek out analysis from economists, political analysts, and financial institutions who study Sri Lankan politics and economics. \n",
      "\n",
      "By gathering information from reputable sources, you can form a more informed opinion on how Sajith Premadasa may approach controlling government expenditure. \n",
      "\n"
     ]
    }
   ],
   "source": [
    "model = genai.GenerativeModel(\"gemini-1.5-flash\")\n",
    "response = model.generate_content(prompt)\n",
    "print(response.text)"
   ]
  },
  {
   "cell_type": "code",
   "execution_count": 40,
   "metadata": {},
   "outputs": [],
   "source": [
    "from langchain_community.document_loaders import PyPDFLoader\n",
    "\n",
    "loader = PyPDFLoader(\"Sajith_manifesto_english.pdf\")\n",
    "data = loader.load()  # entire PDF is loaded as a single Document\n",
    "# data"
   ]
  },
  {
   "cell_type": "code",
   "execution_count": 41,
   "metadata": {},
   "outputs": [
    {
     "data": {
      "text/plain": [
       "44"
      ]
     },
     "execution_count": 41,
     "metadata": {},
     "output_type": "execute_result"
    }
   ],
   "source": [
    "len(data) # 44 pages"
   ]
  },
  {
   "cell_type": "code",
   "execution_count": 42,
   "metadata": {},
   "outputs": [
    {
     "data": {
      "text/plain": [
       "Document(metadata={'source': 'Sajith_manifesto_english.pdf', 'page': 7}, page_content='8\\nBUILD A \\nRESILIENT \\nECONOMY\\nWe prioritize equitable growth \\nthrough a Social Market Economy \\nmodel, ensuring that the benefits of \\ndevelopment reach all citizens. As \\nwe chart a course toward economic \\nrecovery and lasting prosperity, we \\npledge transparency, sustainability \\nand empowerment creating a future \\nwhere all can thrive.\\n')"
      ]
     },
     "execution_count": 42,
     "metadata": {},
     "output_type": "execute_result"
    }
   ],
   "source": [
    "data[7] # first page"
   ]
  },
  {
   "cell_type": "code",
   "execution_count": 43,
   "metadata": {},
   "outputs": [
    {
     "name": "stdout",
     "output_type": "stream",
     "text": [
      "Total number of documents:  281\n"
     ]
    }
   ],
   "source": [
    "from langchain.text_splitter import RecursiveCharacterTextSplitter\n",
    "\n",
    "# split data\n",
    "text_splitter = RecursiveCharacterTextSplitter(chunk_size=500)\n",
    "docs = text_splitter.split_documents(data)\n",
    "\n",
    "\n",
    "print(\"Total number of documents: \",len(docs))"
   ]
  },
  {
   "cell_type": "code",
   "execution_count": 46,
   "metadata": {},
   "outputs": [
    {
     "data": {
      "text/plain": [
       "Document(metadata={'source': 'Sajith_manifesto_english.pdf', 'page': 14}, page_content='participation in developing the seaports.\\nFISHERIES AND \\nAQUATIC RESOURCES\\nLeverage Sri Lanka’s maritime potential by \\ndeveloping blue economy initiatives that \\npromote sustainable economic activities \\nthrough public-private partnerships (PPP), \\nmaximizing the utilization of aquatic \\nresources of the Sea of Sri Lanka.\\n• Establishing a low-interest loan scheme \\nthrough state and private banks \\nfor entrepreneurs to economically \\nstrengthen the fishing community and')"
      ]
     },
     "execution_count": 46,
     "metadata": {},
     "output_type": "execute_result"
    }
   ],
   "source": [
    "docs[80] # first document"
   ]
  },
  {
   "cell_type": "code",
   "execution_count": 51,
   "metadata": {},
   "outputs": [
    {
     "data": {
      "text/plain": [
       "[0.023708494380116463,\n",
       " -0.0038761459290981293,\n",
       " -0.0130457216873765,\n",
       " -0.0558636412024498,\n",
       " 0.05156157165765762]"
      ]
     },
     "execution_count": 51,
     "metadata": {},
     "output_type": "execute_result"
    }
   ],
   "source": [
    "from langchain_chroma import Chroma\n",
    "from langchain_google_genai import GoogleGenerativeAIEmbeddings\n",
    "\n",
    "from dotenv import load_dotenv\n",
    "load_dotenv() \n",
    "\n",
    "#Get an API key: \n",
    "# Head to https://ai.google.dev/gemini-api/docs/api-key to generate a Google AI API key. Paste in .env file\n",
    "\n",
    "# Embedding models: https://python.langchain.com/v0.1/docs/integrations/text_embedding/\n",
    "\n",
    "embeddings = GoogleGenerativeAIEmbeddings(model=\"models/embedding-001\")\n",
    "vector = embeddings.embed_query(\"hello, sajeev!\")\n",
    "vector[:5]\n",
    "#vector"
   ]
  },
  {
   "cell_type": "code",
   "execution_count": 52,
   "metadata": {},
   "outputs": [],
   "source": [
    "vectorstore = Chroma.from_documents(documents=docs, embedding=GoogleGenerativeAIEmbeddings(model=\"models/embedding-001\"))"
   ]
  },
  {
   "cell_type": "code",
   "execution_count": 74,
   "metadata": {},
   "outputs": [],
   "source": [
    "retriever = vectorstore.as_retriever(search_type=\"similarity\", search_kwargs={\"k\": 10})\n",
    "\n",
    "retrieved_docs = retriever.invoke(prompt)"
   ]
  },
  {
   "cell_type": "code",
   "execution_count": 75,
   "metadata": {},
   "outputs": [
    {
     "data": {
      "text/plain": [
       "10"
      ]
     },
     "execution_count": 75,
     "metadata": {},
     "output_type": "execute_result"
    }
   ],
   "source": [
    "len(retrieved_docs)"
   ]
  },
  {
   "cell_type": "code",
   "execution_count": 76,
   "metadata": {},
   "outputs": [
    {
     "data": {
      "text/plain": [
       "[Document(metadata={'page': 9, 'source': 'Sajith_manifesto_english.pdf'}, page_content='10\\nMONETARY AND  \\nEXCHANGE RATE \\nPOLICY\\nWe will respect the autonomy of the Central \\nBank of Sri Lanka (CBSL) provided by the \\nnew Act but hold the bank fully accountable \\nfor meeting its inflation target. Furthermore, \\nwe will help ensure low and stable interest \\nrates, an internationally competitive foreign \\nexchange rate..\\nACHIEVING A \\nREVENUE GROWTH\\nThe solution to increase government \\nrevenue is not confined to raising taxes. One \\nof our first acts will be to introduce digital'),\n",
       " Document(metadata={'page': 8, 'source': 'Sajith_manifesto_english.pdf'}, page_content='government tax and expenditure proposals.\\nMANAGING THE DEBT \\nCRISIS AND THE IMF\\nWe will strengthen fiscal discipline as per the \\nIMF agreement and continue with difficult \\nbut necessary reforms to meet the targets \\nof revenue, primary balance and debt. \\nHowever, we will make amendments to \\nthe current programme to guarantee relief \\nto those below poverty line and improve \\nquality of life for Sri Lankans. \\nIn the case of agreeing to a solution that \\nallows for ‘claw back’ clauses for foreign'),\n",
       " Document(metadata={'page': 34, 'source': 'Sajith_manifesto_english.pdf'}, page_content='strengthened with a focus on improving \\nmanagement, creating sustainable \\ncareer paths for employees, continuing \\nmandatory savings programs and housing lottery initiatives, while also \\nresolving longstanding management and \\npension issues for Samurdhi employees.\\n• We will implement a fuel subsidy through \\na QR-based system, benefiting farmers, \\n“Shakithi” rice millers, three-wheel \\ndrivers, fishermen, and school transport \\nsector drivers, ensuring targeted support'),\n",
       " Document(metadata={'page': 9, 'source': 'Sajith_manifesto_english.pdf'}, page_content='on increasing revenue, it has not adequately \\naddressed government expenditure control. \\nTherefore, our economic vision aims to \\ncontrol wasteful government spending and \\ncorruption. This includes reforming state \\nenterprises. Funds so saved will be utilized \\nto implement a social safety net for the \\ndistressed population and to strengthen \\neducation and health sectors. \\nWe will use data-based planning to control \\ngovernment expenditure and strengthen \\ntransparency and accountability of'),\n",
       " Document(metadata={'page': 9, 'source': 'Sajith_manifesto_english.pdf'}, page_content='distressed population and to strengthen \\neducation and health sectors. \\nWe will use data-based planning to control \\ngovernment expenditure and strengthen \\ntransparency and accountability of \\ngovernment spending to increase public \\ntrust.\\nSTIMULATING \\nECONOMIC GROWTH\\nOur government will be committed to \\ntransforming Sri Lanka into a globally \\nconnected social market economy, with \\nprivate enterprise, both large and small, \\nas the principal driver of growth. This'),\n",
       " Document(metadata={'page': 8, 'source': 'Sajith_manifesto_english.pdf'}, page_content='competition law.\\nWe will bring in transparency in public \\nfinance management. There shall be full \\ndisclosure on expenditure plans and debt \\nmanagement strategies as well as in tax \\nadministration. The establishment of \\nthe Parliamentary Budget Office would \\nhenceforth provide detailed analysis of all \\ngovernment tax and expenditure proposals.\\nMANAGING THE DEBT \\nCRISIS AND THE IMF\\nWe will strengthen fiscal discipline as per the \\nIMF agreement and continue with difficult'),\n",
       " Document(metadata={'page': 3, 'source': 'Sajith_manifesto_english.pdf'}, page_content='\" My sole purpose is to \\nlead our motherland \\ntowards prosperity \\nwhile safeguarding the \\nlives of all citizens\\'\\'\\nLet\\'s unite, commit,  \\nand win...!\\n- SAJITH PREMADASA'),\n",
       " Document(metadata={'page': 14, 'source': 'Sajith_manifesto_english.pdf'}, page_content='foremost foreign exchange earning \\navenue will be considered a prime \\nresponsibility of the government. \\n• The corrupt “VFS visa agreement” signed \\nby the current government will be \\nannulled, and a new modern system will \\nbe established to allow foreign tourists \\nto obtain visas easily at a lower cost. \\nAdditionally, steps will be taken to ensure \\naccountability for this transaction, which \\nis considered the largest corruption case \\nin Sri Lanka.\\n• The government will implement a visa-'),\n",
       " Document(metadata={'page': 22, 'source': 'Sajith_manifesto_english.pdf'}, page_content='healthcare expenses through early \\ndiagnosis of diseases and creating a \\nhealthy generation of citizens. \\n• “Husma” programme to improve the \\navailability of medical services to the \\npeople of Sri Lanka will be top priory \\nof our government. A total audit of the \\nentire health services network shall \\nbe undertaken to allocate fund over a \\nperiod of time to meet global quality \\nstandards. Encourage donors to continue \\nfunding the “Husma” programme to \\nadapt hospitals to community needs,'),\n",
       " Document(metadata={'page': 9, 'source': 'Sajith_manifesto_english.pdf'}, page_content='consumables and inputs shall be made \\nzero rated for VAT . \\n yExcise tax on cigarettes and alcohol and \\ntaxes on casinos will be adjusted to fund \\ntax reductions. \\n yA guaranteed up to 15% savings interest \\nrate will be provided for senior citizen \\nsavings. \\nEXPENDITURE \\nCONTROL\\nAlthough the IMF programme has focused \\non increasing revenue, it has not adequately \\naddressed government expenditure control. \\nTherefore, our economic vision aims to \\ncontrol wasteful government spending and')]"
      ]
     },
     "execution_count": 76,
     "metadata": {},
     "output_type": "execute_result"
    }
   ],
   "source": [
    "retrieved_docs"
   ]
  },
  {
   "cell_type": "code",
   "execution_count": 77,
   "metadata": {},
   "outputs": [
    {
     "name": "stdout",
     "output_type": "stream",
     "text": [
      "competition law.\n",
      "We will bring in transparency in public \n",
      "finance management. There shall be full \n",
      "disclosure on expenditure plans and debt \n",
      "management strategies as well as in tax \n",
      "administration. The establishment of \n",
      "the Parliamentary Budget Office would \n",
      "henceforth provide detailed analysis of all \n",
      "government tax and expenditure proposals.\n",
      "MANAGING THE DEBT \n",
      "CRISIS AND THE IMF\n",
      "We will strengthen fiscal discipline as per the \n",
      "IMF agreement and continue with difficult\n"
     ]
    }
   ],
   "source": [
    "print(retrieved_docs[5].page_content)"
   ]
  },
  {
   "cell_type": "code",
   "execution_count": 60,
   "metadata": {},
   "outputs": [],
   "source": [
    "from langchain_google_genai import ChatGoogleGenerativeAI\n",
    "\n",
    "llm = ChatGoogleGenerativeAI(model=\"gemini-1.5-flash\",temperature=0.3, max_tokens=500)"
   ]
  },
  {
   "cell_type": "code",
   "execution_count": 61,
   "metadata": {},
   "outputs": [],
   "source": [
    "from langchain.chains import create_retrieval_chain\n",
    "from langchain.chains.combine_documents import create_stuff_documents_chain\n",
    "from langchain_core.prompts import ChatPromptTemplate\n",
    "\n",
    "system_prompt = (\n",
    "    \"You are an assistant for question-answering tasks. \"\n",
    "    \"Use the following pieces of retrieved context to answer \"\n",
    "    \"the question. If you don't know the answer, say that you \"\n",
    "    \"don't know.\"\n",
    "    \"\\n\\n\"\n",
    "    \"{context}\"\n",
    ")\n",
    "\n",
    "prompt = ChatPromptTemplate.from_messages(\n",
    "    [\n",
    "        (\"system\", system_prompt),\n",
    "        (\"human\", \"{input}\"),\n",
    "    ]\n",
    ")"
   ]
  },
  {
   "cell_type": "code",
   "execution_count": 62,
   "metadata": {},
   "outputs": [],
   "source": [
    "question_answer_chain = create_stuff_documents_chain(llm, prompt)\n",
    "rag_chain = create_retrieval_chain(retriever, question_answer_chain)"
   ]
  },
  {
   "cell_type": "code",
   "execution_count": 73,
   "metadata": {},
   "outputs": [
    {
     "name": "stdout",
     "output_type": "stream",
     "text": [
      "Sajith Premadasa's plan to control government expenditure includes:\n",
      "\n",
      "* **Controlling wasteful spending and corruption:** This involves reforming state enterprises and using data-based planning to increase transparency and accountability.\n",
      "* **Strengthening fiscal discipline:** This will be done in accordance with the IMF agreement.\n",
      "* **Utilizing funds saved from expenditure control:** These funds will be used to implement a social safety net for the distressed population and to strengthen education and health sectors. \n",
      "* **Transparency in public finance management:** This includes full disclosure on expenditure plans, debt management strategies, and tax administration. \n",
      "* **Establishment of the Parliamentary Budget Office:** This office will provide detailed analysis of all government tax and expenditure proposals. \n",
      "\n"
     ]
    }
   ],
   "source": [
    "response = rag_chain.invoke({\"input\": prompt})\n",
    "print(response[\"answer\"])"
   ]
  }
 ],
 "metadata": {
  "kernelspec": {
   "display_name": "rag-llm",
   "language": "python",
   "name": "python3"
  },
  "language_info": {
   "codemirror_mode": {
    "name": "ipython",
    "version": 3
   },
   "file_extension": ".py",
   "mimetype": "text/x-python",
   "name": "python",
   "nbconvert_exporter": "python",
   "pygments_lexer": "ipython3",
   "version": "3.11.9"
  }
 },
 "nbformat": 4,
 "nbformat_minor": 2
}
