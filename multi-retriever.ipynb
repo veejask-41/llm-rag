{
 "cells": [
  {
   "cell_type": "code",
   "execution_count": 1,
   "metadata": {},
   "outputs": [],
   "source": [
    "from langchain_community.document_loaders import PyPDFLoader\n",
    "\n",
    "sajith_loader = PyPDFLoader(\"Sajith_manifesto_english.pdf\")\n",
    "sajith_data = sajith_loader.load()\n",
    "\n",
    "akd_loader = PyPDFLoader(\"AKD Manifesto.pdf\")\n",
    "akd_data = akd_loader.load()"
   ]
  },
  {
   "cell_type": "code",
   "execution_count": 4,
   "metadata": {},
   "outputs": [
    {
     "data": {
      "text/plain": [
       "Document(metadata={'source': 'AKD Manifesto.pdf', 'page': 12}, page_content='11\\nConcept Papers for Public Consultation ² Government Digitization: Initiate digitization projects in major government \\ninstitutions to improve efficiency and service delivery, aiming to create a more \\ntransparent and responsive public sector. This will include the deployment of \\ndigital platforms for citizen services, streamlining administrative processes, and \\nenhancing data management systems.\\nA special stream of support will be made available to Sri Lankan software \\ncompanies, new startups and joint-ventures with global leaders to be part of this \\nprogram. \\n ² Policy and Regulatory Framework: identify the issues in our existing policies \\nand bring in the new policies that are required to attract FDIs, intellectual property \\nrights, privacy & data, labor laws, bankruptcy, venture capital,  etc. \\n ² National AI Policy: Develop and implement a national AI policy, focusing \\non creating a national AI system to enhance government services and drive \\ntechnological innovation. This policy will set guidelines for ethical AI use, data \\nprivacy, and the integration of AI technologies in various public sectors.\\n2-3 Years\\n ² Human Resource Development: Implement training programs and educational \\ninitiatives to increase the IT workforce to 150,000 by 2030, focusing on skill \\ndevelopment and industry-relevant competencies by updating course content \\nto reflect the latest technological advancements and providing professional \\ndevelopment opportunities for educators. Upskill the existing engineers and \\nbring in foreign expert resources to conduct train-the-trainer programs.\\n ² Incentive Programs for IT Companies: Establish a comprehensive incentive \\nprogram to encourage IT companies to adopt R&D and innovation, increase \\nforeign earnings, and retain the IT workforce within the country. This program \\nwill offer tax incentives, grants, and support for collaborative projects, making \\nSri Lanka an attractive destination for IT investments and career opportunities.\\n ² Unicorn Creation: Initiate the program to develop IT unicorns through sustained \\ninvestment in innovation and entrepreneurship, creating globally recognized \\ncompanies. This will involve nurturing a supportive ecosystem, providing access \\nto capital, and facilitating international market entry. Globally recognised startup \\naccelerators will be invited to set up in Sri Lanka to nurture fledgling startups and \\nconnect them to global opportunities. \\n ² International Collaboration: Forge partnerships with global IT companies and \\nresearch institutions to bring advanced technologies and best practices to Sri \\nLanka, enhancing the country’s competitive edge. These collaborations will \\nfacilitate knowledge transfer, joint ventures, and access to new markets, boosting \\nthe growth of the IT sector.DIGITAL TECHNOLOGY')"
      ]
     },
     "execution_count": 4,
     "metadata": {},
     "output_type": "execute_result"
    }
   ],
   "source": [
    "akd_data[12]"
   ]
  },
  {
   "cell_type": "code",
   "execution_count": 23,
   "metadata": {},
   "outputs": [],
   "source": [
    "from langchain.text_splitter import RecursiveCharacterTextSplitter\n",
    "\n",
    "# split data\n",
    "text_splitter = RecursiveCharacterTextSplitter(chunk_size=500, chunk_overlap=100)\n",
    "\n",
    "sajith_docs = text_splitter.split_documents(sajith_data)\n",
    "akd_docs = text_splitter.split_documents(akd_data)"
   ]
  },
  {
   "cell_type": "code",
   "execution_count": 24,
   "metadata": {},
   "outputs": [
    {
     "data": {
      "text/plain": [
       "(224, 122)"
      ]
     },
     "execution_count": 24,
     "metadata": {},
     "output_type": "execute_result"
    }
   ],
   "source": [
    "len(sajith_docs), len(akd_docs)"
   ]
  },
  {
   "cell_type": "code",
   "execution_count": 25,
   "metadata": {},
   "outputs": [],
   "source": [
    "from langchain_chroma import Chroma\n",
    "from langchain_google_genai import GoogleGenerativeAIEmbeddings\n",
    "\n",
    "embeddings = GoogleGenerativeAIEmbeddings(model=\"models/embedding-001\")"
   ]
  },
  {
   "cell_type": "code",
   "execution_count": 26,
   "metadata": {},
   "outputs": [],
   "source": [
    "vectorstore = Chroma.from_documents(sajith_docs, embeddings, collection_name=\"sajith\")\n",
    "retriever_sajith = vectorstore.as_retriever(search_kwargs={\"k\": 10})"
   ]
  },
  {
   "cell_type": "code",
   "execution_count": 34,
   "metadata": {},
   "outputs": [],
   "source": [
    "vectorstore = Chroma.from_documents(akd_docs, embeddings, collection_name=\"anura_kumara_dissanayake\")\n",
    "retriever_akd = vectorstore.as_retriever(search_kwargs={\"k\": 10})"
   ]
  },
  {
   "cell_type": "code",
   "execution_count": 35,
   "metadata": {},
   "outputs": [],
   "source": [
    "from typing import List, Optional\n",
    "\n",
    "from langchain_core.pydantic_v1 import BaseModel, Field\n",
    "\n",
    "\n",
    "class Search(BaseModel):\n",
    "    \"\"\"Search for information about a person.\"\"\"\n",
    "\n",
    "    query: str = Field(\n",
    "        ...,\n",
    "        description=\"Query to look up\",\n",
    "    )\n",
    "    person: str = Field(\n",
    "        ...,\n",
    "        description=\"Person to look things up for. Should be `sajith` or `anura_kumara_dissanayake`.\",\n",
    "    )"
   ]
  },
  {
   "cell_type": "code",
   "execution_count": 36,
   "metadata": {},
   "outputs": [],
   "source": [
    "from langchain_core.output_parsers.openai_tools import PydanticToolsParser\n",
    "from langchain_core.prompts import ChatPromptTemplate\n",
    "from langchain_core.runnables import RunnablePassthrough\n",
    "from langchain_google_genai import ChatGoogleGenerativeAI\n",
    "\n",
    "output_parser = PydanticToolsParser(tools=[Search])\n",
    "\n",
    "system = \"\"\"You have the ability to issue search queries to get information to help answer user information.\"\"\"\n",
    "prompt = ChatPromptTemplate.from_messages(\n",
    "    [\n",
    "        (\"system\", system),\n",
    "        (\"human\", \"{question}\"),\n",
    "    ]\n",
    ")\n",
    "llm = ChatGoogleGenerativeAI(model=\"gemini-1.5-flash\",temperature=0.3, max_tokens=500)\n",
    "structured_llm = llm.with_structured_output(Search)\n",
    "query_analyzer = {\"question\": RunnablePassthrough()} | prompt | structured_llm"
   ]
  },
  {
   "cell_type": "code",
   "execution_count": 42,
   "metadata": {},
   "outputs": [
    {
     "data": {
      "text/plain": [
       "Search(query='sustainable growth', person='anura_kumara_dissanayake')"
      ]
     },
     "execution_count": 42,
     "metadata": {},
     "output_type": "execute_result"
    }
   ],
   "source": [
    "query_analyzer.invoke(\"what does akd say about sustainable growth?\")"
   ]
  },
  {
   "cell_type": "code",
   "execution_count": 43,
   "metadata": {},
   "outputs": [],
   "source": [
    "from langchain_core.runnables import chain"
   ]
  },
  {
   "cell_type": "code",
   "execution_count": 44,
   "metadata": {},
   "outputs": [],
   "source": [
    "retrievers = {\n",
    "    \"sajith\": retriever_sajith,\n",
    "    \"anura_kumara_dissanayake\": retriever_akd,\n",
    "}"
   ]
  },
  {
   "cell_type": "code",
   "execution_count": 45,
   "metadata": {},
   "outputs": [],
   "source": [
    "@chain\n",
    "def custom_chain(question):\n",
    "    response = query_analyzer.invoke(question)\n",
    "    retriever = retrievers[response.person]\n",
    "    return retriever.invoke(response.query)"
   ]
  },
  {
   "cell_type": "code",
   "execution_count": 49,
   "metadata": {},
   "outputs": [
    {
     "data": {
      "text/plain": [
       "[Document(metadata={'page': 25, 'source': 'AKD Manifesto.pdf'}, page_content='Concept Papers for Public Consultation246.Engineering Education\\nEngineering education should be reformed and restructured for producing \\nindustry related practitioners.\\nBy elucidating the objectives within each industry, the NPF aims to create a \\nconducive regulatory environment that fosters innovation, investment, competition, \\nand societal welfare while addressing sector-specific challenges and opportunities.\\nPolicy Directions, Strategies and Actions\\nWired Communication Industry'),\n",
       " Document(metadata={'page': 10, 'source': 'AKD Manifesto.pdf'}, page_content='equity.\\n ² International Collaboration: Foster international partnerships to access \\nadvanced technologies, best practices, and new markets.\\n ² Infrastructure Enhancement: Develop world-class infrastructure to support the \\ngrowth and competitiveness of the IT industry.'),\n",
       " Document(metadata={'page': 27, 'source': 'AKD Manifesto.pdf'}, page_content='services, health and education network should be free of charge.\\n ² Provide equal education opportunities around the country with free access to \\neducation materials.\\n ² Promote IoT applications such as NB-IoT for the development of the IoT \\nnetworks. (Ex: Smart metering)\\n ² Regulatory bodies (CRC-SL AND TRA) should produce a guideline for the \\noperators to promote sharing passive/active infrastructure with standardized \\ntariff.'),\n",
       " Document(metadata={'page': 6, 'source': 'AKD Manifesto.pdf'}, page_content='² A holistic approach to worker welfare that includes job security, equitable \\nremuneration, opportunities for skill development, and conducive working \\nenvironments to improve the quality of employment within the sector.\\n ² Proactively disseminate information related to project selection, approval, \\nprioritization, and initiation schedules to all stakeholders, enabling informed \\ndecision-making and transparency.CONSTRUCTION'),\n",
       " Document(metadata={'page': 13, 'source': 'AKD Manifesto.pdf'}, page_content='of technological innovation and is well-equipped to meet future demands.\\n ² Industry 4.0/5.0: adopting IT to transform industries with advanced digital \\ntechnologies and automation. Further, Industry 5.0 enables industries to provide \\nmore personalized products and services to the end customer using IT.DIGITAL TECHNOLOGY'),\n",
       " Document(metadata={'page': 12, 'source': 'AKD Manifesto.pdf'}, page_content='connect them to global opportunities. \\n ² International Collaboration: Forge partnerships with global IT companies and \\nresearch institutions to bring advanced technologies and best practices to Sri \\nLanka, enhancing the country’s competitive edge. These collaborations will \\nfacilitate knowledge transfer, joint ventures, and access to new markets, boosting \\nthe growth of the IT sector.DIGITAL TECHNOLOGY'),\n",
       " Document(metadata={'page': 2, 'source': 'AKD Manifesto.pdf'}, page_content='POLICY FRAMEW ORK\\nConcept P apers for Public Consul tationIN ENGINEERING SECT ORS\\nCONSTRUCTION  02\\nDIGITAL TECHNOLOGY 07\\nENERGY 13\\nMARITIME 18\\nCOMMUNICATION 21\\nPub(d). 1st June 2024CONTENTS'),\n",
       " Document(metadata={'page': 28, 'source': 'AKD Manifesto.pdf'}, page_content='broadcast the   infotainment and edutainment content and deploy the related \\nservices.\\n ² Identify terrestrial TV as the efficient medium for educational services and \\nimprove the technical infrastructure for mitigating it.\\n ² Hiring the broadcast equipment, facilitation and technical manpower for the \\ninternational outside broadcast coverages and becoming a key team player of \\nthe international outside broadcast coverages industry, SLRC Engineering has a \\nhigh potential for it.'),\n",
       " Document(metadata={'page': 23, 'source': 'AKD Manifesto.pdf'}, page_content='deploying the local infrastructure including fixed line connection such as \\nFTTX, public access point and innovation while ensuring the connection for all, \\ncybersecurity and data privacy.COMMUNICATION'),\n",
       " Document(metadata={'page': 16, 'source': 'AKD Manifesto.pdf'}, page_content='commercial sectors.\\nFacilitate expandability of the energy supply and distribution networks with \\nempowered institutional, legal, social, and regulatory procedures and provisions.')]"
      ]
     },
     "execution_count": 49,
     "metadata": {},
     "output_type": "execute_result"
    }
   ],
   "source": [
    "custom_chain.invoke(\"what does anura say about education?\")"
   ]
  },
  {
   "cell_type": "code",
   "execution_count": 79,
   "metadata": {},
   "outputs": [],
   "source": [
    "@chain\n",
    "def qna_chain(question):\n",
    "    response = query_analyzer.invoke(question)\n",
    "    retriever = retrievers[response.person]\n",
    "    retrieved_docs = retriever.invoke(response.query)\n",
    "\n",
    "    prompt = (\n",
    "        \"system :\"\n",
    "        \"You are an assistant for question-answering tasks. \"\n",
    "        \"Use the following pieces of retrieved context to answer \"\n",
    "        \"the question. If you don't know the answer, say that you \"\n",
    "        \"don't know.\"\n",
    "        \"\\n\\n\"\n",
    "        \"{context}\"\n",
    "        \"\\n\\n\"\n",
    "\n",
    "        \"human :\"\n",
    "        \"{question}\"\n",
    "    ).format(context=retrieved_docs, question=question)\n",
    "\n",
    "    result = llm.invoke(prompt)\n",
    "\n",
    "    return result"
   ]
  },
  {
   "cell_type": "code",
   "execution_count": 80,
   "metadata": {},
   "outputs": [
    {
     "name": "stdout",
     "output_type": "stream",
     "text": [
      "Sajith Premadasa's manifesto states that sustainable growth requires a two-part approach: reforming the economy to make it more competitive and globally connected, and ensuring economic justice and equity through a strong social safety net. He also emphasizes the importance of promoting a green economy and environmental sustainability as foundational principles for economic growth and development. \n",
      "\n"
     ]
    }
   ],
   "source": [
    "result = qna_chain.invoke(\"what does sajith say about sustainable growth?\") \n",
    "print(result.content)"
   ]
  }
 ],
 "metadata": {
  "kernelspec": {
   "display_name": "rag-llm",
   "language": "python",
   "name": "python3"
  },
  "language_info": {
   "codemirror_mode": {
    "name": "ipython",
    "version": 3
   },
   "file_extension": ".py",
   "mimetype": "text/x-python",
   "name": "python",
   "nbconvert_exporter": "python",
   "pygments_lexer": "ipython3",
   "version": "3.11.9"
  }
 },
 "nbformat": 4,
 "nbformat_minor": 2
}
