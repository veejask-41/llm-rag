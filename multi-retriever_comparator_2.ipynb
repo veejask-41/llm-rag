{
 "cells": [
  {
   "cell_type": "code",
   "execution_count": 1,
   "metadata": {},
   "outputs": [],
   "source": [
    "from langchain_community.document_loaders import PyPDFLoader\n",
    "\n",
    "sajith_loader = PyPDFLoader(\"Sajith_manifesto_english.pdf\")\n",
    "sajith_data = sajith_loader.load()\n",
    "\n",
    "akd_loader = PyPDFLoader(\"AKD Manifesto.pdf\")\n",
    "akd_data = akd_loader.load()\n",
    "\n",
    "ranil_loader = PyPDFLoader(\"ranil_manifesto_compressed-output.pdf\")\n",
    "ranil_data = ranil_loader.load()"
   ]
  },
  {
   "cell_type": "code",
   "execution_count": 19,
   "metadata": {},
   "outputs": [
    {
     "data": {
      "text/plain": [
       "[Document(metadata={'source': 'ranil_manifesto_compressed-output.pdf', 'page': 0}, page_content=''),\n",
       " Document(metadata={'source': 'ranil_manifesto_compressed-output.pdf', 'page': 1}, page_content=''),\n",
       " Document(metadata={'source': 'ranil_manifesto_compressed-output.pdf', 'page': 2}, page_content=''),\n",
       " Document(metadata={'source': 'ranil_manifesto_compressed-output.pdf', 'page': 3}, page_content='FiveT;iumphan[ Years\\nThe\\nFive-Year\\nMission\\nThe\\nTheravada\\nTrade\\nEconomy\\nOperation\\n-Beyond2o25\\nTowards\\na\\nProsperous\\nNation\\nA\\nWin\\nfortheMotherland\\nA\\nUnited\\nSriLanka\\n'),\n",
       " Document(metadata={'source': 'ranil_manifesto_compressed-output.pdf', 'page': 4}, page_content='06\\n'),\n",
       " Document(metadata={'source': 'ranil_manifesto_compressed-output.pdf', 'page': 5}, page_content='07\\n'),\n",
       " Document(metadata={'source': 'ranil_manifesto_compressed-output.pdf', 'page': 6}, page_content='08\\n'),\n",
       " Document(metadata={'source': 'ranil_manifesto_compressed-output.pdf', 'page': 7}, page_content='SriLanka\\nA\\nnation\\ncan\\nonly\\nbe\\nbuiltandtransformed through visionary thinking andaction,not\\nmerely\\nbywords.Hehasprovenitwithinthepasttwoyears.\\nPeople\\nwho\\nwere\\nstuck\\ninfuelqueuesthenarenowlaughing indansalqueues.\\nPause\\nfora\\nmoment\\nand\\ncompare\\nthe\\npresent\\nsituation\\nwith\\nthestateofthecountrytwo\\nyears\\nback.\\nHe\\naccepted\\nthe\\nenormous\\nchallenge\\nofcrossing overanarduous ropebridgeof\\neconomic\\nuncertainty.\\nHe\\nfinished\\nwhat\\nhe\\nstarted,\\nhe\\ncompleted\\nwhat\\nhe\\ntook\\nresponsibility\\nfor.\\nHe\\nworked\\naccording\\ntoa\\nplan.Hehada\\nfar-sighted\\nvision.\\nDuring\\nthe\\npasttwoyears,heintroduced newActsunlikeanyotherPresident. Newlaws\\nwere\\npassed\\ncovering\\ntheareasthatwerenevertouched.\\nWithin\\ntheaimofdirecting thecountryintherightdirection, hehascreatedapproximately\\none\\nhundred\\n(yes,100!)lawsintheParliament sofar.TheAnti-corruption Act,theCentral\\nBank\\nAct,theElection Expenditure Regulations, thePublicDebtManagement Act,the\\nTruth\\nand\\nReconciliation\\nAct,theOnlineSafetyAct,thePublicDebtAct,theElectricity\\nAct,theWomen Empowerment Act,thePublicFinance Management Act,theEconomic\\nTransformation\\nAct,aresomeofthecrucialActsintroduced byhim.\\nThe\\nmain\\ncandidates\\ncontesting\\nthisPresidential Election haveheldvariousministerial\\npositions\\nunder\\ndifferent\\ngovernments.\\nSome\\nhave\\neven\\nbeen\\nLeader\\noftheOpposition\\nand\\ntheChiefOpposition Whip.\\nAmong\\nthem,\\nRanil\\nremains\\na\\ngleaming\\nbeacon\\nwho\\nhas\\nplaced\\nhissealinthehistoryof\\nSriLanka.ItwasduringhistimeastheMinisterofYouth,thatthisMinistryofYouthsawits\\ngolden\\nyears.\\nWhen\\nhewastheMinister ofEducation, theMinistry wasatitspeak.The\\ncountry\\nsaw\\ngrowth\\ninallitsindustries acrosstheislandwhenhewastheMinister of\\nIndustries.\\nThe\\neconomy\\nofthecountrytooka\\nnew\\nturn\\nduring\\nhistimeasthePrime\\nMinister\\nand\\nthe\\nMinister\\nofEconomic Policies.\\nWhich\\nother\\npresidential\\ncandidate\\nhas\\nsuch\\nanillustrious past?\\nYes,\\nhe\\nheld\\nthe\\npost\\nofPrimeMinister severaltimes,buttherewasalwaysa\\nPresident\\nabove\\nhim.Twoyearsago,whenhebecamethePresident forthefirsttime,hewasableto\\nperform\\nhisdutiestowards thecountryindependently anddriveustowards development.\\nHe\\nrecovered\\nthe\\nnation\\nfroma\\nstate\\nofmiserywithinjusttwoyears—anunbelievable\\nachievement.\\nHe\\nistheonlypersonwhohasprovenhimselfwithaction,notmereemptywords.\\nMany\\npeople\\ncriticizehisjourneyinpublicbutsinghispraisesinprivate.\\nIfyouarestillnotcertainaboutyourvoteinthiscrucialPresidential Election, readthe\\nfollowing\\nquotes\\nand\\nmake\\nyour\\ndecision.\\nThese\\nare\\nnot\\nthe\\nclaims\\nmade\\nby\\nordinary\\npeople,\\nbut\\nby\\ninternational\\nscholars\\nwho\\nare\\nexperts\\ninthefieldsofeconomy, social\\nsciences\\nand\\npoliticalsciences.\\n09\\n'),\n",
       " Document(metadata={'source': 'ranil_manifesto_compressed-output.pdf', 'page': 8}, page_content=''),\n",
       " Document(metadata={'source': 'ranil_manifesto_compressed-output.pdf', 'page': 9}, page_content='\"Icommend President RanilWickramasing heandthe\\nGovernment\\non\\nthe\\nsteady\\nprog\\nress\\nmade\\non\\nthe\\neconomic\\nrecovery\\naction\\nplan!’\\nM\\nr.Masatsug u\\nAsakawa,\\nPresident\\noftheAsianDevelopment Bank\\n(May\\n5,2024)\\n\"Iappreciate thePresident\\'s effortstoovercome the\\neconomic\\ncrisisanddebtrestructuring, aswellas\\npursuing\\nanambitious economic reformsagenda!’\\nMs.\\nYöko\\nKamikawa,\\nForeign\\nMinister\\nofJapan\\n(May\\n4,2024)\\n\"In\\ntheregionI\\nserve,\\nthere\\nisnostoryofrevivallike\\nthenarrative ofSriLanka.\"\\nM\\nr.Donald Lu,\\nUS\\nAssistant\\nSecretary\\nofStateforSouthand\\nCentral\\nAsian\\nA\\nflairs\\n(February\\n19,2024)\\nRanil,\\nistheonewhoperformed suchan\\nimpossible\\nmiracle\\nwithin\\njusttwoyears.\\nIsthereanyoneofsuchcaliberamongtherest\\nofthepresidential candidates?\\nNot\\natall.Weallknowthat.\\nTherefore,\\nshould\\nhe\\nnot\\nbe\\nyour\\nchoice?\\nYes!\\nRanil!\\n'),\n",
       " Document(metadata={'source': 'ranil_manifesto_compressed-output.pdf', 'page': 10}, page_content='TheTheravadaTradeEconomy\\n'),\n",
       " Document(metadata={'source': 'ranil_manifesto_compressed-output.pdf', 'page': 11}, page_content=''),\n",
       " Document(metadata={'source': 'ranil_manifesto_compressed-output.pdf', 'page': 12}, page_content=''),\n",
       " Document(metadata={'source': 'ranil_manifesto_compressed-output.pdf', 'page': 13}, page_content=''),\n",
       " Document(metadata={'source': 'ranil_manifesto_compressed-output.pdf', 'page': 14}, page_content=''),\n",
       " Document(metadata={'source': 'ranil_manifesto_compressed-output.pdf', 'page': 15}, page_content=''),\n",
       " Document(metadata={'source': 'ranil_manifesto_compressed-output.pdf', 'page': 16}, page_content=''),\n",
       " Document(metadata={'source': 'ranil_manifesto_compressed-output.pdf', 'page': 17}, page_content='Towards\\na\\nThriving\\nNation\\nSriLanka\\nWe\\nareaimingatcreating anexport-oriented manufacturing andserviceeconomy.\\nIftheeconomy isnotstrengthened, anyothersectorofthecountrycannotbedeveloped.\\nA\\nhungry\\nnation\\nhas\\nno\\nroom\\nforspiritual development. LordBuddhahasalsopointed\\noutthatitisuselesstopreachtoa\\nhungry\\nperson.\\nIfwedonotproceed withthisplan,wewillfaceanevenworseeconomic crisisina\\nfew\\nyears.\\nItcanonlybeprevented bymovingforwardonthepathwehavefollowed sofar.\\nWe\\ncannot\\nbeindebted totheworldforever.Adebteconomy cannotuplifta\\nnation.\\nBut,\\nifwecontinue alongthispath,wewillbeabletobuilda\\ndebt-free,\\ndeveloped\\neconomy\\nby2048.\\nA\\nGeneration\\nFree\\nofPoverty\\nAround\\n25%\\nofthecommunity isfacingvarioushardships duetotheCovid-19 pandemic\\nand\\ntherecenteconomic crisis.Beittheunavailability ofopportunities, lackoffacilities\\ntogeta\\ndecent\\neducation,\\ndenied\\naccess\\ntocleanwaterandelectricity, unemployment,\\nordeniedrightstogetmarriedandraisechildren, alltheseissueshavetobeaddressed.\\nWe\\npledge\\ntoprioritize providing solutions totheseproblems. Wewillworkhardto\\nreduce\\nthe\\nproportion\\noflow-income peoplesuffering fromdiversehazards to10%,\\nduring\\nthenext5years.Wehaveformulated theNational SocialProtection Policywhich\\nwould\\nlaya\\nfoundation\\nforsolvingthisissue.\\nWith\\ntheintention ofredeeming peoplefrompoverty,welaunched Aswesuma, whichis\\na\\nmassive\\nand\\nmore\\nextensive\\nprogramme\\nthan\\nSamurdhi.\\nUnder\\nthisprogramme, we\\nare\\nproviding\\nfinancial\\nassistance\\nto\\n2.4\\nmillion\\nfamilies.\\nFamilies\\nfacing\\neconomic\\ndifficulties\\nare\\nreceiving\\na\\nmaximum\\nofRs.15,000andtheseniorcitizens, individuals\\nwith\\nspecial\\nneeds\\nand\\nkidney\\npatients\\ninthesefamilies arereceiving financial\\nassistance\\nseparately.\\nThis\\namount\\nishigherthantheSamurdhi allowance. Aswesuma\\nand\\nSamurdhi\\nprogrammes\\nwill\\nbe\\nintegrated\\nand\\nutilized\\nfor\\nthis\\npurpose\\nsystematically.\\nWe\\nhave\\nidentified\\nthecommunities thataresuffering fromextreme povertyandsocial\\noppression.\\nThese\\nfamilies\\nwillbemaderegularparticipants indivisional development\\nprogrammes\\nand\\nprioritywillbegiventosuchcommunities whenrecruiting employees\\nfor\\ngovernment\\nprojects\\nrelated\\nto\\nlocal\\ninfrastructure\\ndevelopment,\\nthereby\\nempowering\\nthem\\neconomically.\\nAreas\\nwith\\nsuch\\ncommunity\\ngroups\\nwillbefurtheridentified andspecialattention will\\nbegiventothoseareasincomplying withtheoverallprogramme toeradicate poverty.\\n19\\n'),\n",
       " Document(metadata={'source': 'ranil_manifesto_compressed-output.pdf', 'page': 18}, page_content=''),\n",
       " Document(metadata={'source': 'ranil_manifesto_compressed-output.pdf', 'page': 19}, page_content='I.\\nThe\\nGovernment\\nSector\\nSriLanka\\nThe\\nGovernment\\nhas\\nthe\\npower\\nto\\nregulate\\nthe\\nentire\\neconomic\\nsystem.\\nGovernment-owned\\nbanks,\\nfinancial\\ninstitutions\\nand\\nenterprises\\nconduct\\nthisfinancial\\nmanagement\\nona\\ncompetitive\\nbasis.\\nII.\\nPeoples\\'\\nSector\\nArticle\\n27(2)(e)\\noftheConstitution isthebasisforthenewconcept ofthePeoples\\'\\nSector.\\n\"the\\nestablishment\\nofa\\njustsocialorderinwhichthemeansofproduction, distribution\\nand\\nexchange\\narenotconcentrated andcentralised intheState,Stateagencies orinthe\\nhands\\nofa\\nprivileged\\nfew,butaredispersed amongandownedby,allthePeopleofSri\\nLanka;\"\\nInordertomakethePeoples\\' Sectora\\nsolidstakeholder intheeconomy,\\n•\\nOpportunities\\nwillbegiventoeverycitizentobeentitledtoa\\nland\\nora\\nhouse\\n•\\nNational\\nWealth\\nFund\\nwillbeestablished\\n•\\nThe\\ncooperative\\nmovement\\nwillbecompletely restructured\\nProperty\\nRights\\nA\\nseparate\\nauthority\\nwillbeestablished toensuresystematic andexpeditious deliveryof\\nrights\\ntocitizens. Thiswillensurelandownership to2\\nmillion\\npeople\\nthrough\\nthe\\nUrumaya\\nprogramme\\nand\\nthetransferoflow-income housingownedbythegovernment\\nintheColombo citytotheresidents within4years.\\nLoans\\nwillbegrantedatconcessional ratestomiddle-class familiesfortheconstruction\\nofhouses.Low-income familiesshallbegiventheopportunity toowntheirhousesin\\ncondominiums.\\nNew\\nvillages\\nwillbeestablished fortheplantation workers andthoselivinginlinerooms\\nwillbegrantedtherighttoowna\\nplotofland.\\nSeveral\\nhousing\\nschemes\\nwillbelaunched underlocalandforeigninvestments within\\nthe\\nnext\\ntwo\\nyears\\nwith\\nthe\\ngovernment\\nintervention\\nand\\nwe\\nwillencourage thelocal\\nand\\nforeign\\ninvestors\\ntoconstruct apartments comprising ofnumerous floorscovering\\nallthemajorcitiesinthecountry.\\nThe\\nabove\\nmeasure\\nwillpavethewaytorevivingtheconstruction industry whichhas\\nbeen\\nhalted\\natpresent, withinthenexttwoyears.\\n21\\n'),\n",
       " Document(metadata={'source': 'ranil_manifesto_compressed-output.pdf', 'page': 20}, page_content=\"Financial\\nRights\\nSignificant\\nTrade\\nUnion\\nrepresentation\\nwillbeallowedintheBoardmembership ofthe\\nEmployees'\\nProvident\\nFund\\n(EPF)\\nand\\nEmployees'\\nTrust\\nFund\\n(ETF).\\nRepresentatives\\nfrom\\ntheChamber ofCommerce willalsobeincluded toensurebetterfinancial\\nadministration.\\nThese\\nfunds\\narecurrently utilizedforgovernment purposes. Whenever thegovernment\\nfacesa\\nshortage\\noffinance,thesefundsareutilizedfortreasury bonds.Weaimto\\nchange\\nthispractice. Whentheeconomy ofthecountryisstable,theutilization of\\nthese\\nfunds\\nforgovernment purposes willeventually cease.\\nThis\\nwould\\nallow\\ntheinvestment ofthesefundsinsafelocalandinternational financial\\ninstitutions\\nwhich\\nwould\\nbringa\\nhigh\\nincome\\ntothecountry. By2023,theEmployees'\\nProvident\\nFund\\nand\\nthe\\nEmployees'\\nTrust\\nFund\\nwillbecomethelargestinvestment\\nfund\\ninthecountry.Thiswouldbringmorebenefitstothemembers ofthefund.\\n•\\nNational\\nWealth\\nFund\\nThe\\nNational\\nWealth\\nFund\\nwillbeformedbycombining thebudgetsurplusandthe\\nprofitsofgovernment institutions. Thisfundwillbeinvested inlocalandinternational\\nstock\\nmarkets.\\n•\\nCooperatives\\nThe\\ncooperative\\nmovement\\nwillbecompletely reorganized inaccordance with\\ninternational\\nstandards.\\nNew\\nruleswillbeintroduced tomakethecooperative\\nmovement\\nindependent\\nsothatchanges inpoliticalandgovernment systems willnot\\nintervene\\ninthemanagement ofthissector.A\\nseries\\nofnewcooperative lawswillbe\\nadopted\\nincompliance withthecooperative modelfunctioned inScandinavian\\ncountries.\\nThe\\ncooperative\\nmovement\\nwillthusberaisedtoa\\nhigher\\nleveltomakeit\\ncapable\\noffacingthecurrentmarketcompetition.\\n\"),\n",
       " Document(metadata={'source': 'ranil_manifesto_compressed-output.pdf', 'page': 21}, page_content='Operation-Beyond2025\\nThisoperation is100%practical. Ithasbeendesigned basedonthefuture\\ngrowth rate ofdevelopment ofthecountry, scientific estimates aboutthefuture\\nincome generated, and the resources that could be utilized. That iswhythisplan\\nincludes specific timeframesaswell.\\n'),\n",
       " Document(metadata={'source': 'ranil_manifesto_compressed-output.pdf', 'page': 22}, page_content='24\\nClimate\\nChange\\nThere\\narea\\nnumber\\nofclimatechangechallenges wewillhavetofaceinfutureasa\\ntropical\\ncountry,\\nsuch\\nastheincrease ofglobalwarming, changes inrainfall,andsealevel\\nrise.Wewillbuilddisaster-resilient citiesinthedistricts thatarepronetonatural\\ndisasters.\\nWe\\nforesaw\\nthese\\nissues\\nand\\ntook\\nmeasures\\nwithin\\nthelasttwoyears,pavingthewayfor\\na\\ngreen\\neconomy.\\nThus,\\nwe\\nhave\\nbeen\\ntaking\\naction\\ntolaya\\nfoundation\\ntoconvertthe\\ndisadvantages\\nofglobalclimatechangeintoadvantages forourcountry.\\nWe\\nhave\\nbeen\\ngivena\\nforemost\\nplace\\nintheWorldClimateChange Programme dueto\\nour\\ncommitment\\ntoaddressing climatechange. Wehavelaunched a\\nnumber\\ninitiatives\\ninthisregardsuchastheClimate JusticeForum,theClimate Prosperity Planandthe\\nInternational\\nClimate\\nChange\\nUniversity.\\nWe\\narea\\nprincipal\\nstakeholder\\noftheGlobalFinancing Pactenteredintobythecountries\\noftheGlobalNorthandtheGlobalSouthunderthepatronage ofFrance,inorderto\\naddress\\nthe\\nglobal\\nclimate\\nchanges.\\nWe\\nhave\\nalsojoinedtheGlobalBlended Financial\\nAlliance\\ninitiated\\nbyIndonesia focusing onthecountries intheGlobalSouth.\\nWe\\nhave\\nlaunched\\na\\nTropical\\nRegion\\nCollaboration\\nprogramme\\natpresentwiththeaimof\\nensuring\\nenvironmental\\nsafety\\ninthetropicalregion.\\nActive\\nparticipation\\nintheseinitiatives provides uswithopportunities tostrengthen our\\neconomy.\\nCreating\\nan\\napt\\nbackground\\nforthesaidpurpose, wearealsodetermined to\\nenforce\\ntheClimateChangeAct.\\nWe\\nwillbetakingactiontoestablish a\\nClimate\\nChange\\nSecretariat\\nand\\na\\nClimate\\nChange\\nFund,\\nwhich\\nwillhelpusfaceclimatechallenges successfully whileprotecting\\nourenvironment.\\nSriLankahasbeenblessed witha\\nwealth\\nofbiodiversity. Wewishtoenacta\\nnew\\nBiodiversity\\nLaw\\nand\\nestablish\\na\\nRegulatory\\nBody\\ntoconserve thebiodiversity ofthe\\ncountry.\\nSince\\nclimate\\nchange\\nisimpacting allaspects ofdevelopment, environmental-friendly\\nprocedures\\nwith\\na\\nfocus\\non\\nclimate\\nchange,\\nwill\\nintroduced\\nfor\\nsectors\\nsuch\\nas\\nagriculture,\\nindustries,\\nenergy,\\netc,asspecified inthisfive-year actionplan.\\nThese\\ntasks\\nhave\\nalready\\nbeen\\ninitiated. Theprogress willbeevidentinfuture.\\n'),\n",
       " Document(metadata={'source': 'ranil_manifesto_compressed-output.pdf', 'page': 23}, page_content='A\\nModern\\nAgro-Culture\\nThe\\ncurrent\\nworld\\npopulation\\nisaround8\\nbillion.By2050,thiswillincrease by29%\\ntotalling\\nupto9.8billion.Agricultural production therefore shouldbeincreased tocater\\ntothisrisingpopulation infuture.\\nOur\\ntarget\\nshould\\nbetosupplyatleasta\\nminiscule\\npercentage\\nofthatrequirement.\\nInthiscontext, wewillintroduce a\\nhighly\\ncompetitive\\nexport-oriented,\\nhigh-income\\ngenerating,\\nmodern\\nagro-culture.\\nWe\\nwillencourage organiccultivation targeting large\\nforeign\\nmarkets.\\nFarmers\\nwillbeprovided withseeds,fertilizer andmodern machinery required for\\nmodern\\nagricultural\\nmethods.\\nA\\nsupply\\nchain\\nwhere\\nagro-products\\nwillbedirectly\\npurchased\\nfrom\\nthe\\nfarmers\\nwillbecreated. Theestablishment ofa\\nchain\\nofstorages\\nacross\\ntheislandinordertouplifttheruralagriculture industry, isalsointheworks.\\nHome\\ngarden\\ncultivations\\nand\\nsubsistence\\ncrop\\ncultivations\\ninurbanapartments willbe\\nhighly\\nencouraged.\\nThree\\nhundred\\nthousand\\n(300,000)\\nacres\\noflandwillbeallocated outoftheunderutilized\\nState\\nLand\\nforexport-oriented commercial cropcultivation.\\nProper\\ninstructions\\nand\\nassistance\\nwillbeprovided toUrumaya freehold deedrecipient\\nfarmers\\ntoexpandandimprove theircultivations. Wewillencourage themtousethose\\nlands\\nforproductive cropcultivation andactivities relatedtootheragro-enterprises.\\nWe\\nhave\\ndrawn\\nupplanstomodernize croptransport andsales,whileminimizing waste\\nduring\\nstorage.\\nA\\nwell-organized\\nprogramme\\ntopopularize thelocalfoodsincollaboration withthe\\nGovernment\\nwillbelaunched.\\nThe\\ncompletion\\nof\\nMalwathu\\nOya,\\nThalpitigala\\nand\\nVayamba\\nEla\\nprojects\\nwill\\nbe\\nexpedited\\ninordertofulfillthewaterrequirement foragricultural purposes anddaily\\nchores.\\nThe\\nfirstphaseoftheseprojects isexpected tobecompleted by2030.\\n25\\n'),\n",
       " Document(metadata={'source': 'ranil_manifesto_compressed-output.pdf', 'page': 24}, page_content='26\\nA\\nSustainable\\nOcean\\nEconomy\\nAlthough\\nour\\nisland\\nhome\\nissurrounded bytheocean,evenlessthan40%oftheboats\\nwe\\nown\\natpresentareutilizedforfishing.Itisplanned toimplement a\\nplan\\ntoreap\\nmaximum\\nbenefits\\nfrom\\nthe\\nocean\\nwith\\nthe\\npatronage\\nofthelocalandforeignexperts.\\nThis\\nisexpected todoubletheincomeofUSD300millionwecurrently earnviafisheries\\nproducts\\nexportation.\\nThe\\nfreshwater\\nfishery\\nindustry,\\nprawn\\ncultivation,\\naquatic\\nplants,\\nand\\nornamental\\nfish\\nindustry\\nareexpected tobepromoted andexpanded.\\nThe\\nfishery\\nharbours\\nacross\\nthe\\nisland\\nwillbedeveloped andupgraded toFishery\\nEconomic\\nCentres.\\nFishing\\nsocieties,\\nfishermen,\\ninvestors\\nand\\nexperts\\nwillbelinkedto\\nthese\\ncenters\\ninordertoyieldthebestoutoftheeconomic centres.\\nWe\\nwillbelaunching a\\nconcessionary\\nscheme\\nforthepurchase ofvesselsfromsmall\\nfishing\\nvessels\\ntomulti-day fishingtrawlers.\\nForeign\\ninvestments\\nforthedevelopment ofthefisheryindustry willbeencouraged.\\nSteps\\nwillbetakentomodernize thefisheryindustry tobeinparwiththeinternational\\ntrends.\\nThe\\nfishing\\ncommunity\\nwillbegiventherequired assistance regarding theuseof\\nmodern\\nvessels,\\nequipment\\nand\\ntechnology.\\nInthismanner,withina\\nperiod\\nofa\\nfew\\nyears,\\nwe\\nwillbeabletoupliftthelivingstandards\\nofthefishingcommunity.\\nFishing\\ntowns\\naround\\nfishing\\nharbours\\nareexpected tobedeveloped andfishermen will\\nbe\\nequipped\\nwith\\nproper\\nhousing\\nand\\nother\\ncommunity\\nfacilities. Stepshavealready\\nbeen\\ntaken\\ntocreditthefuelallowance provided tofishermen directlytotheirbank\\naccounts.\\nThese\\ninitiatives willbeimplemented withintheyear2025.\\nSince\\nwe\\nare\\nan\\nisland,\\nwe\\nare\\nsurrounded\\nbya\\nrichseabed, whichwehavenotyet\\nutilizedtogetmaximum benefits.A\\nlong-term\\naction\\nplan\\ntoreapthemaximum benefits\\noftheresources intheseabedwillbeimplemented withtheaidofinternational expertise.\\n'),\n",
       " Document(metadata={'source': 'ranil_manifesto_compressed-output.pdf', 'page': 25}, page_content='Strengthening\\nthe\\nDairy\\nSector\\nSriLanka\\nOnly\\nanamountof35%ofthedairyrequirement ismanufactured withinthecountry. Due\\ntothelowdairyharvest, MilkoLtdoperates manyofitsmodernmachinery onlyduringa\\nshort\\nperiod\\noftheyear.\\nAsa\\nresultofthis,USD282millionflowstoothercountries formilkimportation peryear.\\nWhile\\n35litresofmilkisextracted fromeachcowintheAmbewela PrivateFarmdaily,only\\nabout\\n5\\nlitresareextracted froma\\ncow\\ninotherdairyfarmsinthecountry.\\nA\\nprogramme\\nto\\nraise\\nthe\\ndairy\\nharvest\\nby\\nconnecting\\nthe\\nNational\\nLivestock\\nDevelopment\\nBoard\\nwith\\nIndian\\nauthorities\\nrelated\\ntothedairyindustry isalreadyin\\nprogress.\\nThiswouldpositively impactthelocaldairyindustry intheaspectsoftechnology\\nand\\ninvestment.\\nThrough\\nthisprogramme, thefollowing willbeachieved.\\n•\\nIncrease\\nthecurrentannualdairyproduction from380millionlitresto820million\\nlitresbytheyear2035.\\n•\\nProvide\\na\\nglass\\noffreshmilkforallschoolchildren inthecountryfreeofcharge.\\n•\\nBeself-sufficient withdairyproduction andbeabletosavethemoneythatflows\\noutofthecountrytoimportmilkandcreateincome-generating opportunities\\nwith\\nthebyproducts manufactured usingtheexcess.\\n•\\nProvide\\nfacilities suchashighgeneticanimals, animalfood,medicine, andcattle\\nsemen\\nforartificial insemination forover200,000 ofsmalldairyfarmersand\\nentrepreneurs.\\n•\\nProvide\\n20,000\\nhigh-genetic\\ncattlewithintheyear2025forthelocaldairyfarmers.\\n•\\nIncrease\\ntheincomecurrently generated bylocaldairyfarmersuptoanamount\\nmore\\nthan\\n40billionrupeesby2035andtherebystrengthen theruraleconomy.\\n•\\nLaunch\\na\\nconcessionary\\nloan\\nscheme\\nforlocaldairyfarmers.\\n•\\nIncrease\\nthedairyharvestyieldedbythelocaldairyfarmersfromonecowper\\nday\\nupto20litres.\\nThe\\nfirstphaseofthisprogramme willbelaunched in2025andthetaskswillbecompleted\\nby2035.\\n'),\n",
       " Document(metadata={'source': 'ranil_manifesto_compressed-output.pdf', 'page': 26}, page_content=''),\n",
       " Document(metadata={'source': 'ranil_manifesto_compressed-output.pdf', 'page': 27}, page_content='Taking\\nour\\nProducts\\ntotheWorld\\nSriLanka\\nIfweneedtotakethenextleapintheeconomy, wewillhavetoupliftourindustries and\\nimprove\\nour\\nproducts\\ntoa\\nlevelwheretheycancompete intheinternational market.We\\nalready\\nhave\\ngained\\ninternational\\nacclamation\\nforapparel,tyresforindustrial vehicles, etc.\\nand\\nitishightimeweutilizedtherecognition. Itisexpected toimportmodernmachinery\\nmade\\nwith\\nmodern\\ntechnology\\ntoimprove theaforementioned productions. International\\ninvestments,\\ntechnology\\nand\\nexpertise\\nwillthusbeoptimally utilizedtoovercome the\\ncurrent\\nobstacles\\ninordertonourishtheproduction economy.\\nA\\nnew\\nEconomic\\nCommission\\nwillbeestablished forinvestment promotion andanOffice\\nforInternalTradewillbesetuptopromote allaspects relatedtointernational trade.We\\nwillalsoestablish a\\nNational\\nProductivity\\nCommission\\ntoenhance theproductivity ofthe\\ncountry.\\nTrincomalee\\nisexpected tobethePrimaryEconomic Hubwhichwillbeequipped witha\\nharbour,\\nefficient\\ntransport,\\nindustrial\\nfacilities, energygeneration possibilities andalso\\nnaval\\nand\\naviation\\nstrength.\\nThe\\nGovernment\\nofIndiahaspledged toassistusinthis\\nmatter.\\nI.\\nExpansion\\noftheBingiriya Investment Promotion Zonehasalreadycommenced.\\nII.\\nNew\\nEconomic\\nZones\\nwill\\nbe\\nestablished\\nin\\nKankasanturai,\\nParanthan\\nand\\nMankulam\\nconsisting\\nof1000acresin2025.\\nIII.\\nA\\nnew\\nInvestment\\nZone\\nof120acreswillbesetupinDompebyyear2027.\\nSapugaskanda\\nInvestment\\nPromotion\\nZone\\nwillbeexpanded by400moreacres.\\nIV.\\nThe\\nfirstphaseoftheHambantota Zonewhichwillbeconstructed inanareaof\\n4000\\nacres\\nwillcommence in2026.\\nV.\\nA\\nTechnological\\nZone\\nofapproximately 100acreswillbeestablished centered\\naround\\nthecityofKandyin2026.\\nNational\\nDevelopment\\nBank\\nwillbeestablished intheyear2025,inordertofundthe\\nlarge-scale\\nprojects\\nand\\nindustries.\\nThe\\noperation\\nofseveralentitiesforthepromotion ofproduction industries isinconvenient\\nto\\nsmall\\nand\\nmedium-scale\\nentrepreneurs.\\nTherefore,\\na\\nnew\\nsingle\\nentity\\nwill\\nbe\\nestablished\\nby\\nthe\\nname\\nof\\nEnterprise\\nSri\\nLanka\\nto\\naddress\\nthe\\nrequirements\\nof\\nentrepreneurs.\\n29\\n'),\n",
       " Document(metadata={'source': 'ranil_manifesto_compressed-output.pdf', 'page': 28}, page_content=''),\n",
       " Document(metadata={'source': 'ranil_manifesto_compressed-output.pdf', 'page': 29}, page_content='Digitalization\\nThe\\nlatest\\nand\\nthe\\nmost\\nadvanced\\ntrends\\nshaping\\nthe\\nworld\\ninfutureareArtificial\\nIntelligence\\n(AI)andAutomation basedondigitaltechnology. AIwillbethebaseofall\\ndisciplines\\ninfuture,fromhealthtoeducation tofinancial andeconomic sectors.\\nA\\nTechnology\\nPromotion\\nAct\\nwillbepassedintheyear2025withtheaimofbringing\\nabout\\na\\ndigitaltransformation. A\\nDigital\\nTransformation\\nAgency\\nanda\\nTechnology\\nand\\nInnovation\\nCouncil\\nwillthereon beestablished. Amendments havealreadybeen\\nmade\\nto\\nthe\\nSri\\nLanka\\nTelecommunications\\nAct\\nin\\nan\\nattempt\\nto\\ncreate\\nthe\\nbackground\\nforthispurpose.\\nSteps\\nwillbetakentoaccelerate thedigitalrevolution throughtheintroduction ofinternet\\nservices\\nbased\\nonthesatellitetechnology.\\nThe\\npresent\\nand\\nfuture\\ngeneration\\nofthecountrywillbebroughtclosertothenewtrends\\nintechnology. Theyounggeneration willbeempowered withknowledge ondigital\\ntechnologies.\\nItisaimedtocompletely shifttoe-Governance withina\\nperiod\\nofthreeyears,bydigitizing\\nthe\\nentire\\npublic\\nservice\\nand\\nutilizingAItodelivereffective andefficient services tothe\\npublic.\\nAtpresent, theshareofourdigitaleconomy isUSD5\\nbillion.Wewillbelayinga\\nrobust\\nfoundation\\nrequired\\ntoraisethatfiguretoUSD15billionwithinthenextfiveyears.\\nA\\nproper\\nand\\ncomprehensive\\nlegalframework willbeformulated topreventandcontrol\\nthe\\nmisuse\\nofAIandtoensuretheprivacyofcontentandintellectual property rights.All\\ntrademarks\\nwillbeprotected throughtheMadridProtocol.\\nIssuing\\nthedigitalidentitycardstocitizenshasalreadybeeninitiated anditisexpected\\ntointroduce anelectronic votingsystemforelections inthenearfuture.\\nI\\n”’\\nI\\n'),\n",
       " Document(metadata={'source': 'ranil_manifesto_compressed-output.pdf', 'page': 30}, page_content='A\\nKnowledge-Based\\nSociety\\nA\\nsociety\\nwhich\\nisequipped withknowledge andprofessional expertise shouldbecreated\\ninordertoovercome thetechnological, economic andsocietal challenges wehaveto\\nundergo\\ninfuture.\\nA\\nnew\\nentity\\nnamed\\nVocational\\nSkillsSriLanka(VSSL)willbeestablished intheyear\\n2025\\namalgamating\\nthe\\nNational\\nApprentice\\nand\\nIndustrial\\nTraining\\nAuthority\\nand\\nthe\\nVocational\\nTraining\\nAuthority\\nofSriLanka.Allthevocational trainingschoolsandcentres\\nwillbebroughtunderitspurview.\\nA\\nPost-School\\nEducation\\nCommission\\nisalsoplanned tobesetup.\\nWe\\nwillenablevocational trainingforstudents whoareleavingschool.Astheinitialstep\\nofthisproject,thegovernment willprovidethefundsrequired togivevocational training\\nto\\n50000\\nstudents\\nin2025.Basingthispilotproject,fundswillbemoreextensively\\nprovided\\nwith\\ntheassistance oftheAsianDevelopment Bank.\\nProvincial\\nVocational\\nEducation\\nBoards\\nwillbeestablished inallnineprovinces\\nbefore\\ntheendof2026,andallthevocational trainingcentreslocatedintheprovinces\\nwillbeupgraded tovocational schools andbrought undertheestablished Provincial\\nVocational\\nEducation\\nBoards.\\nTechnical\\nand\\nVocational\\nand\\nManagement\\nUniversity\\nColleges\\nwillbeopenedinall\\nthe\\nprovinces,\\nwith\\nfaculties\\nthereunder\\ninalldistricts. Stepswillbetakentoawardthe\\nrelated\\ndegrees\\nupon\\nthe\\ncompletion\\nofanacademic periodoftwoyears,similarto\\ndeveloped\\ncountries.\\nThe\\nsubject\\nofTechnology hasnotbeengivensignificant attention inthecurrent\\nuniversity\\nsystem.\\nA\\nnew\\nuniversity\\nwill\\nbe\\nestablished\\ninGalaha-Kandy withthe\\nsponsorship\\noftheChennai IIT(Chennai Institute ofInformation Technology). Several\\nother\\nTechnological\\nUniversities\\nwillbeopenedinHewagam Korale,SiyaneKoraleand\\nSath\\nKorale.\\nThese\\nactivities\\nwillbecommenced from2025to2028.\\nUniversity\\nofVocational Technology established bytheActNo.31of2008willbe\\nrestructured\\nand\\nbe\\nrenamed\\nasWimalasurendra Technological University bytheyear\\n2026.\\nThe\\nfollowing\\nuniversities\\nwillbeaddedtotheSriLankanUniversity network bytheyear\\n'),\n",
       " Document(metadata={'source': 'ranil_manifesto_compressed-output.pdf', 'page': 31}, page_content='Beher\\nStandards\\nofEducation\\nSriLanka\\nThe\\npresent\\nschool\\ninfrastructure\\nwas\\ncreated\\nbytakingintoconsideration thesituation\\nthat\\nprevailed\\ndecades\\nago.\\nThese\\ninfrastructure\\nfacilities aretherefore nowcompletely\\noutdated.\\nSteps\\nwillbetakentomodernize theschoolinfrastructure systemtofacetheera\\noftechnology whichwillbedawned in2040.Funding willbeprovided bythegovernment.\\nA\\nprogramme\\ntoequipteachers withnewknowledge andtrainingwillbeimplemented in\\ntheyear2025.\\nThe\\nestablishment\\nofSchoolBoardswithrepresentatives fromSchoolDevelopment\\nSocieties\\nand\\nPast\\nPupils\\nAssociations\\nwillbecompleted withintheperiodfrom2025to\\n2027.\\nSchool\\neducation\\nwillberevisedwithafocusonsoftskills,lifeskillsandmoralvalues.The\\nsystem\\nofexaminations andevaluations willberevisited enabling thestudents tostart\\nuniversity\\neducation\\nattheageof17years.\\n“English\\nforAll”programme whichprovides Englisheducation toalltheschoolchildren\\nwillbeimplemented withinthenextdecade. Ithasbeenplanned torecruit2500English\\nteachers\\nasa\\nshort-term\\nremedy\\ntofillthevacancies forEnglishteachers throughout the\\ncountry;\\n1000\\nretired\\nteachers,\\n400\\nfrom\\nTeaching\\nColleges\\nand\\n1100\\ngraduates\\nrecruited\\nthrough\\na\\ncompetitive\\nexamination\\nwillcomeundertheaforementioned 2500new\\nteachers.\\nThe\\ngraduates\\nrecruited\\nwillbegivenaspecialtrainingfora\\nperiod\\nof3\\nmonths\\nbefore\\ntheirposting.\\nSteps\\nwillbetakentochangethemethodofcompilation ofschooltextbooks, andto\\nrevise\\nthecurricula towithafocusoninteresting approaches tosubjectmatter.\\nThe\\nmain\\nobjective\\nofeducation wouldbethedevelopment ofthepersonalities and\\ncharacters\\nofstudents whileequipping themwithnewknowledge andskills,creativity\\nand\\nself-confidence.\\nThe\\nfoundation\\nofthefuturegeneration islaidbythepreschools. A\\nspecial\\nprogramme\\nwillbelaunched toimprove andregulate preschool education, alongwitha\\nstandard\\ntraining\\nforpreschool teachers.\\n'),\n",
       " Document(metadata={'source': 'ranil_manifesto_compressed-output.pdf', 'page': 32}, page_content='34\\nHealth,\\ntheGreatest Wealth\\nSriLankahasfreehealthservice.But,ishealthservicetrulyfree?Thelessfortunate have\\ntobeinthewaitinglistforyearseventogetanessential treatment suchascardiac\\nsurgeries.\\nOur\\nhealth\\nservice\\nmust\\nbeperceived ata\\nnew\\nangle,\\nand\\nanatmosphere where\\noptimal\\nservice\\nisprovided tothepeople,mustbecreated.\\nA\\nfavourable\\nenvironment\\nwillbebuiltfordoctors, nurses,othermedicalprofessionals and\\nmembers\\nofthesupporting staff,tocarryouttheirdutiesina\\nbetter\\nmanner.\\nA\\nkey\\nexpectation\\nofimproving thecondition ofhealthcare personnel istoreducethebrain\\ndrain.\\nLocal\\nand\\nforeign\\ntraining\\nopportunities\\nforthemedicalstaffheadedbythedoctorswillbe\\nexpanded.\\nMedical\\nOfficers\\nwillbeprovided morefacilities toobtainpostgraduate degrees.\\nInSriLanka,wehaveskilledandeminent Medical Officers servingalloverthecountry.\\nOur\\nhealth\\nservice\\nisalsoequipped withwell-experienced supportive cadres.Therefore,\\nwe\\nneed\\ntoupgrade ourhealthservices toa\\nhigher\\nstandard\\ntooffermedicaltreatments\\ntoforeigners. Ononehand,itwillbringinforeignexchange andontheother,itwillcreate\\na\\nbackground\\ntoupgrade thehealthcare facilities offeredtothegeneralpublicthroughthe\\nmoney\\ngenerated\\nthrough\\nmedical\\ntourism.\\nWith\\nthisobjective alsoinmind,wewillrebuildtheColombo National Hospital asa\\nmodern\\nhospital\\nwith\\ninternational\\nfacilities. Itisexpected tobeconverted intooneofthe\\nkey\\nhospitals\\ninSouthAsia.\\nThe\\nconditions\\nofgovernment hospitals locatedacrossthecountryaretobeupgraded.\\nGovernment\\nhospitals\\nwillbeconstructed inproportion tothepopulation ratioandthe\\nhealthcare\\nservices\\nwillbeupgraded toanoptimallevelwithinthenext15years.\\nThe\\nMedical\\nResearch\\nInstitute\\nwillbestrengthened withmoderntechnology withthe\\nintention\\nofmakingitthesupreme research laboratory intheregion.\\nWith\\ntheobjective ofensuring theavailability ofhighqualitymedicine, stepswillbetaken\\ntoestablish a\\nPharmaceutical\\nStandardization\\nInstitute\\nrecognized\\nbytheinternational\\nstandardization\\ninstitutes.\\nProper\\nmeasures\\nwillbetakentominimize wastethrougha\\nsmart\\nhealthcare\\nservice\\nusing\\nArtificial Intelligence, digitalization andautomation.\\nTraditional\\nand\\nindigenous\\nmedicine\\nwillbepromoted andpreserved. Wewillintroduce a\\nsystem\\ntogifttheinvaluable knowledge oftraditional andindigenous medicine tothe\\nfuture\\ngeneration.\\nNew\\nlaws\\nwillbeintroduced tosubjectprivatehospitals toproperregulation.\\nThe\\nestablishment\\nofprivatehospitals inallnineprovinces shallbeencouraged.\\nSpecial\\nattention\\nwillbeprovided tointroduce a\\nresilient\\nhealth\\ncare\\ninsurance\\nscheme\\nenabling\\nallcitizenstoreceivetreatments fromanyhospitaloftheirpreference.\\n'),\n",
       " Document(metadata={'source': 'ranil_manifesto_compressed-output.pdf', 'page': 33}, page_content=''),\n",
       " Document(metadata={'source': 'ranil_manifesto_compressed-output.pdf', 'page': 34}, page_content='36\\nCitySplendour\\nTheareafromKalutaratoNegombo willbedeveloped intooneextensive megapolis. Thesecity\\nplanning\\nactivitieswillbecarriedoutinconsultation withSurbanaJurongPvtLtdofSingapore,\\nwhich\\nisaworld-renowned company withurbanplanning expertise.\\nOne\\nmore\\nsub-city\\nwillbedeveloped andequipped withkeyfacilitiesinadditiontothecity\\nwhich\\nisconsidered themaincityofeachdistrictatpresent.\\nState-of-the-art\\nfacilitiesinparwithinternational standards willbegiventoallthecitiesand\\nmegapolises\\nthuscreatedanddeveloped.\\nWe\\nwilldevelopa\\ndisaster-resilient\\nplanforthenewlydesigned cities,aswellastheexisting\\ncitiesthatarevulnerable tonaturaldisasters. Thenewcitiesbuiltwillbeequipped withthe\\nabilitytominimize thedamagedonebynaturaldisasters.\\nSuch\\ninadequacies\\nhave\\nbeen\\nidentified anda\\nprogramme\\nisplannedtobelaunched in2025\\ntoaddresstheseissues.\\nThe\\nsewage\\nsystems\\ncurrently\\nexisting\\ninmostofthemaincitiesaredecadesold.Wewill\\ndevelop\\nand\\nimprove\\ntheconditions ofurbansewagesystems.\\nWe\\nwillmakethewatersupplytocitiessystematic. Wewillprovidetapwatertothedryzone,\\ncentralhills,coastalareasandotherareasthatfacescarcityofwater.\\n—-\\nt.\\n\"\\n,\\'\\',\\nImprovements\\ntoTransport\\nWe\\nhave\\nmade\\nfuture\\nplans\\nforthesectorsoftransport andhighways withtheaimof\\nproviding\\nsustainable\\ngreen\\ntransport\\nservices.\\nWe\\nwillusedigitaltechnologies fromissuingdrivinglicensestodrivingvehicles.\\nInordertoencourage theuseofelectrical vehicles,wewillestablish charging centresaround\\nthecountry.\\nWe\\nwillregulatepublictransport.\\nWhile\\ncontinuing\\nthecurrentroaddevelopments, wewilldesignaroadnetworkwhichwillsuit\\ntheneedsofthefuture.\\nTheconstruction ofKandyHighwaywillbecontinued.\\nTheabovementioned taskswillbecommenced in2025.\\n'),\n",
       " Document(metadata={'source': 'ranil_manifesto_compressed-output.pdf', 'page': 35}, page_content=''),\n",
       " Document(metadata={'source': 'ranil_manifesto_compressed-output.pdf', 'page': 36}, page_content=''),\n",
       " Document(metadata={'source': 'ranil_manifesto_compressed-output.pdf', 'page': 37}, page_content='TowardsaProsperousNation\\n'),\n",
       " Document(metadata={'source': 'ranil_manifesto_compressed-output.pdf', 'page': 38}, page_content=''),\n",
       " Document(metadata={'source': 'ranil_manifesto_compressed-output.pdf', 'page': 39}, page_content=\"Empowered\\nWomen\\nThe\\nfemale\\npopulation\\ninSriLankais51.6%.\\nSriLanka\\nWe\\naretakingvariousactionstoprotecttherightsofminorities. Butwhathavewetruly\\ndone\\ntoprotecttherightsofthemajority ofthepopulation, whichiswomen?\\nWe\\naredetermined tocreatea\\nsociety\\nwhere\\nwomen\\narerespected andtreatedequally.A\\nsociety\\nwhich\\nenables\\nwomen\\ntobeindependent andempowered willbetheobjective.\\nThe\\nbasic\\nlaws\\nrequired\\nfor\\nthis\\npurpose\\nhave\\nalready\\nbeen\\nformulated.\\nWomen\\nEmpowerment\\nAct\\nhas\\nalready\\nbeen\\npassed.\\nA\\nseparate\\ncommission\\nfor\\nwomen's\\nrights\\nwill\\nbe\\nestablished\\nas\\nper\\nthe\\nWomen\\nEmpowerment\\nAct.\\nWe\\nwillformulate newpoliciestosupportthewomensuffering frompoverty.\\nThe\\ncurrent\\nprocess\\nofliberating womenfromtheburdenofmicro-finance loansandother\\ndebts\\nwillbefurtherexpanded.\\nWe\\nwillprovide concessional loanstofemale-headed families ata\\nmaximum\\nofRs.\\n1,000,000\\nat\\nan\\ninterest\\nrate\\nof\\n3%,\\nand\\nmore\\nopportunities\\nwill\\nbe\\nprovided\\nfor\\nself-employment.\\nWe\\nwilltakemeasures topreventviolence againstwomenincluding harassment athome,\\nonthestreetsandatwork.\\nWe\\nwillincrease thenumberoffemalepoliceofficerstoensurethemaintenance ofregular\\nand\\nwell-functioning\\nWomen\\nand\\nChildren\\nAffairs\\nUnits\\nineveryPoliceStation.\\nAround\\n51.6%\\nofSriLanka'spopulation arewomen. Inordertoensureequality, wewill\\nimplement\\na\\nspecial\\nprogramme\\ntoboostfemalerepresentation inpoliticsandbusiness.\\nWe\\nhave\\nplanned\\na\\nprogramme\\ntoworktogether withotherSAARCcountries toenact\\nlegislation\\nforwomen's rights.A\\nregional\\nconference\\non\\nthe\\nrights\\nofwomenwillbe\\norganized\\ninSriLanka.\\nThe\\nabove-mentioned\\naction\\nwillbecompleted duringtheperiodfrom2025to2030.\\n41\\n\"),\n",
       " Document(metadata={'source': 'ranil_manifesto_compressed-output.pdf', 'page': 40}, page_content=''),\n",
       " Document(metadata={'source': 'ranil_manifesto_compressed-output.pdf', 'page': 41}, page_content=''),\n",
       " Document(metadata={'source': 'ranil_manifesto_compressed-output.pdf', 'page': 42}, page_content=''),\n",
       " Document(metadata={'source': 'ranil_manifesto_compressed-output.pdf', 'page': 43}, page_content=''),\n",
       " Document(metadata={'source': 'ranil_manifesto_compressed-output.pdf', 'page': 44}, page_content=\"46\\nRespect\\nforAllCommunities\\nAcross\\nthe\\ncountry,\\nthere\\naresmallcommunity groupsthatoftengounnoticed andare\\nmarginalized\\nbysociety.Although thesegroupshavefaceddifferent formsofsuppression\\nand\\ndifficulties, noattention hasbeengiventotheirrequirements sofar.\\nWe\\nare\\ncommitted\\ntobuildinga\\nsociety\\nwhere\\nno\\ncitizen\\nisdiscriminated againstor\\ndisadvantaged\\nbased\\non\\nreligion,\\nlanguage,\\ncaste,\\ngender,\\npolitical\\nopinion,\\norplaceof\\nbirth.\\nA\\nNew\\nHope\\nforthePublicService\\nPublic\\nservants\\nwillreceivesalaryincrements startingfroma\\nminimum\\nof24%.Thelowest\\nsalary,\\ninclusive\\noftheCostofLivingAllowance, willbeincreased toRs.55,000.\\nGovernment\\nemployees\\nbelow\\nthe\\nage\\nof\\n40\\nwill\\nbe\\ngiven\\none\\nyear's\\nleave\\nwith\\nscholarships\\ntofollowcoursestoimprove serviceefficiency.\\nA\\nUniversity\\nofPublicPolicyandAdministration willbeestablished.\\nA\\nskillsormerit-based promotion systemwillbeintroduced.\\nOur\\nplan\\nincludes\\ndigitalizing\\nthe\\nentire\\npublic\\nservice\\ntomakeitmoreefficient and\\nstreamlined.\\nTo\\nsupport\\nthis\\ninitiative, wearehopingtoprovidelaptops, tablets,and\\nsmartphones\\natsubsidized rates.\\nGovernment\\nemployees\\nwithout\\naccess\\ntohousing willbegivenpriorityundera\\nnew\\nhousing\\nscheme.\\nAs\\nthe\\neconomy\\nstrengthens,\\nwe\\nwillincrease theamountofdistress loansandreissue\\nproperty\\nand\\nhousing\\nloans.\\nThe\\nservices\\nthat\\ncan\\nbe\\nperformed\\nremotely\\nwillbegiventheoptionofworking from\\nhome.\\nWe\\nwillimplement a\\nformal\\nand\\ntransparent\\ntransfer\\nsystem\\nwithin\\nthe\\nPublic\\nService.\\nWe\\narecommitted toeliminating salaryanomalies amongpensioners.\\nThe\\nabove\\ntasks\\nwillbecommenced in2025.\\n\"),\n",
       " Document(metadata={'source': 'ranil_manifesto_compressed-output.pdf', 'page': 45}, page_content='SriLanka\\nOne\\nHundred\\nThousand\\nNew\\nEmployment\\nOpportunities\\nintheNextYear\\n!\\nAsa\\nresult\\nofoureconomic policies, anincreasing number ofnewenterprises willemerge\\nthrough\\nlocal\\nand\\nforeign\\ninvestments,\\ncreating\\nnumerous\\nemployment\\nopportunities\\nin\\nthe\\nfuture.\\nWhile\\nthis\\nmay\\ntakea\\nyear\\nortwotodevelop, inthemeantime, onehundred\\nthousand\\nnew\\nemployment\\nopportunities\\nwillbeprovided intheyear2025asfollows;\\n•\\nDevelopment\\nprojects\\nsupported\\nbyforeigncountries, whichwerepreviously\\nsuspended,\\nare\\nnow\\nbeing\\nresumed\\nsince\\nwe\\nare\\npresently\\nemerging\\nout\\nof\\nbankruptcy.\\nMany\\noftheseprojects areintheconstruction industry, andthiswill\\ncreate\\nnumerous\\njob\\nopportunities.\\n•\\nIn2025,wewilllauncha\\nnew\\nprogramme\\nforyouthwhodonotgetthrough\\nOrdinary\\nLevel\\nand\\nAdvanced\\nLevel\\nexaminations.\\nThis\\nprogramme,\\nin\\ncollaboration\\nwith\\nthe\\nprivate\\nsector\\nincluding\\ntourism\\nand\\nmanufacturing\\nindustries,\\nwillprovidevocational training anda\\nmonthly\\nallowance\\nofRs.35,000\\nfora\\nperiod\\nofoneyear.Privatecompanies couldalsocontribute additional\\nfunds\\ntothisallowance. Theywillbeprovided withemployment opportunities\\ninthosecompanies afterthetraining.\\n•\\nNew\\nemployment\\nopportunities\\nare\\nemerging\\nnationwide,\\nowing\\ntothe\\nconcessional\\nloans\\ngiven\\ntosmallandmedium enterprises. Itisalsoa\\ngreat\\nopportunity\\ntooffera\\nsolution\\ntounemployment.\\n•\\nAgricultural\\nmodernization\\nwillcreatea\\nsignificant\\nnumber\\nofnewemployment\\nopportunities\\nfrom\\nthe\\nyear\\n2025\\nto2027.\\n•\\nAdditionally,\\nvacancies\\ncreated\\nbyretirements ingovernment servicewillprovide\\nfurther\\nemployment\\nopportunities.\\nI.”I*”\"”\"\\'”\\'\"\\'\\n\"\"\\n47\\n'),\n",
       " Document(metadata={'source': 'ranil_manifesto_compressed-output.pdf', 'page': 46}, page_content=''),\n",
       " Document(metadata={'source': 'ranil_manifesto_compressed-output.pdf', 'page': 47}, page_content=''),\n",
       " Document(metadata={'source': 'ranil_manifesto_compressed-output.pdf', 'page': 48}, page_content=\"50\\nCountry\\nFirst\\nThe\\nSecurity\\n(Special\\nProvisions)\\nAct\\nhas\\nnow\\nbeen\\ndrafted\\ntoenhance thestatusofour\\nTriForcesandstabilize thesecurityofthenation.\\nThe\\ncommittee's\\nreport\\non\\nmodernizing\\nsecurity\\nforces\\ntomeetthedemands of2030has\\nbeen\\nreceived,\\nand\\nitsrecommendations willbeimplemented.\\n’One\\nRank\\n-OnePension’ systemwillbeintroduced fortheTriForces.\\nThis\\nwilleliminate theissuesrelatedtopensions ofwarheroes.\\nOpportunities\\nwillbeexpanded forourmilitarypersonnel toserveintheUNPeacekeeping\\nMissions.\\nAvenues\\nwillbecreatedforretiredmilitarypersonnel tocontribute tothesecurity sector\\nbyencouraging theestablishment ofrelatedmanufacturing industries.\\nSriLankaNavyandSriLankaAirForcewillbegivenopportunities togainvaluable\\nexperience\\nand\\ngenerate\\nincome\\nthrough\\ndeployments\\nintheGulfregion.\\nWe\\nwillempower ourarmedforceswithadvanced knowledge andtechnology, ensuring\\nthatthenation'ssecurity remains safefromthethreatsthatmaycomefromland,sea,air,\\norcyberspace.\\nRenaissance\\nofthePoliceService\\nThe\\nbasic\\nfoundation\\nofa\\nstrong\\ncriminal\\njustice\\nsystem\\nistocreatea\\nPolice\\nService\\nconsisting\\nofsafe,responsible, active,competent, braveandhonestofficialswhoensure\\nthesafetyofcitizens.\\nA\\nPolice\\nUniversity\\nwillbeestablished withtheaimofimproving theinstitutional and\\nextracurricular\\nknowledge\\nand\\nskillsofpoliceofficers.Thereby policeofficerswillbegiven\\ntheopportunity toobtaindegrees andpost-graduate degrees whileinservice.\\nInourefforttobuilda\\ndisciplined\\nsociety,\\nwe\\nwillestablish thefoundation fortheSriLanka\\nPolice\\ntodeliverservicewithmaximum efficiency.\\n\"),\n",
       " Document(metadata={'source': 'ranil_manifesto_compressed-output.pdf', 'page': 49}, page_content=''),\n",
       " Document(metadata={'source': 'ranil_manifesto_compressed-output.pdf', 'page': 50}, page_content='AWinfortheMotherland\\n'),\n",
       " Document(metadata={'source': 'ranil_manifesto_compressed-output.pdf', 'page': 51}, page_content='Cultural\\nCitizens\\nItisnosecretthatSinhalaLanguage, Literature andFineArtsarenourished byBuddhist\\nteachings.\\nThese\\nteachings\\nalone\\ncan\\nshape\\npeople\\ntobegoodandexemplary citizens.\\nSriLankaisa\\nmulti-religious\\nand\\nmulti-cultural\\nnation.\\nHinduism,\\nChristianity\\nand\\nIslam\\nhave\\nbeen\\npracticed\\ninSriLankafromthepast.I\\npledge\\ntoprotecting andrespecting all\\nreligions,\\nplaces\\nofworship, andculturalidentities inourmulti-cultural society.\\nThe\\ninvaluable\\nheritage\\nfound\\natthehistorical sitesofAnuradhapura andPolonnaruwa\\nshould\\nbefurtherstudiedandutilizedforthebenefitofthecountry.Weaimtogivepriority\\ntopeaceandeliminate disputes, thatarefoundinthevaluesofgovernance intheEastern\\nworld.\\nWhile\\npromoting\\nnon-violence,\\nkindness\\nand\\ncompassion,\\nwe\\nwould\\nalsoseektobe\\nnourished\\nbythelessonsfromtheWestern world.\\nWe\\nare\\nlooking\\nforward\\nto\\nestablishing\\na\\ndigital\\nmuseum\\ndedicated\\nto\\nBuddhist\\ncivilization\\nofthehistoriccityofKandy.\\nMeasures\\nwillbetakentoutilizeAIandnewtechnologies tostudytheThripitakaya.\\nEstablishing\\nMahavihara\\nUniversity\\nisanotherimportant objective wehave.\\nA\\nfund\\nwillbeestablished toprovidenecessary facilities totheforest-dwelling monks.We\\nhave\\nalready\\nstarted\\nwork\\nto\\ndevelop\\nthe\\nPirivena\\neducation.\\nWe\\nwillalsodevelop\\ninfrastructure\\nfacilities forthespiritual development oftheBuddhist nuns.\\nHinduism\\nbegan\\nspreading\\nacross\\nthe\\ncountry\\nduring\\ntheAnuradhapura —Polonnaruwa\\nperiods.\\nSteps\\nwillbetakentodevelop Hindutemples aswell.\\nWe\\nwill\\nintroduce\\nDakshina\\nKailasa\\nbased\\non\\nThiruketheeshwaram\\nin\\nMannar,\\nNaguleshwaram\\ninJaffna,andMunneshwaram inChillaw.Koneshwarama templewillbe\\nupgraded\\nasthemainHindutempleofthispilgrimage.\\nThe\\nestablish\\nan\\neducation\\ncenter\\ntoobtainformaleducation onHinduism hasbeen\\nplanned\\nafterhavingdiscussions withtheHindureligious leaders.\\nWe\\nwillprovidefacilities toteachChristian andCatholic children inChristian/Catholic\\nsettings.\\nThe\\ngovernment\\nwillprovidefundsandsupportforseminaries andothercentres\\nthat\\nprovide\\nChristian\\nand\\nCatholic\\neducation.\\nWe\\nwilldevelop infrastructure facilities\\naround\\nimportant\\nshrines\\nsuch\\nastheMaduShrineandimprove facilities available for\\ndevotees.\\nWe\\nwillbetakingstepstodevelop Madrasa education tofacilitate Islamiceducation.\\nRecently\\nthere\\nhave\\nbeen\\nunscientific\\nand\\nanti-religious\\nincidents\\nsuch\\nas\\nthe\\nforced\\ncremation\\nofthedeaddespitethembeingMuslims. Necessary measures willbetakento\\ncompensate\\nallfamilieswhohadtoundergo thistragedy. Takingfurthersteps,newlaws\\nwillbeenacted in2025topreventsuchincidents inthefuture.Wewillestablish a\\nsociety\\nthatdoesnotinterrupt anyreligious practice orbelief,ordisregard culturalidentities.\\nWe\\nwillcontinue theprogramme wheresolarpowersystems aregiventoreligious places.\\n53\\n'),\n",
       " Document(metadata={'source': 'ranil_manifesto_compressed-output.pdf', 'page': 52}, page_content='54\\nImproving\\nFine\\nArts\\nThe\\nspiritual\\nand\\nintellectual\\nlivesofpeopleinanycountry arenourished byartsand\\nculture.\\nOur\\ncountry\\nhas\\nbeen\\ngifted\\nwith\\ndance\\nstyles\\nfrom\\nupcountry\\nto\\nlow\\ncountry\\nto\\nSabaragamuwa,\\na\\nrichfolkcultureandvariousformsofartsandcraftsincluding paintings,\\nsculpting\\netc.\\nToday,\\nSriLankaisblessed withartistsrepresenting allformsofarts\\nincluding\\nmusicians,\\ndancers,\\nwriters,\\npainters,\\nsculptors\\nwho\\nhave\\nbrought\\ninternational\\nhonours\\ntothecountry.\\nWe\\nwilllaunchprogrammes toartiststodeveloping theirskillstomeetinternational\\nstandards\\nsothattheywilltakeourculturalidentitytotheworld.\\nSriLankanowhasworldfamouswritersanditisourresponsibility tofacilitate and\\nencourage\\ntheirwriting.\\nWe\\nwill\\nestablish\\nan\\nInternational\\nFine\\nArts\\nand\\nCultural\\nCenter\\nnear\\nAnanda\\nCoomarswamy\\nMawatha\\nbycombining theNelumPokunaTheatre, JohnDeSilvaTheatre,\\ntheScience Museum, Mahaweli Centre,andtheNewTownHallPremises. Thiscentershall\\nprovide\\nthe\\nfacilities\\nto\\nimprove\\nthe\\nskills\\nofthelocalartists,and\\nproduce\\nart\\nof\\ninternational\\nstandard.\\nThis\\ncenter\\nwillbenamedtheAnanda Coomaraswamy Artsand\\nCultural\\nCentre.\\nA\\nSouth\\nAsian\\nCultural\\nCentre\\nanda\\nMuseum\\nforModernandContemporary Artwillbe\\nestablished\\ninthesamepremises. Thistaskwillbecommenced in2025.\\nThe\\noldmilitaryhospital locatedinGalleFace,Colombo hasbeenallocated fora\\nmodern\\nartmuseum andwillcommence itsconstruction in2025.\\nThe\\ncentre\\nwillprovidefacilities forthesectorssuchastraditional andmoderndancing,\\nmusic,\\npainting,\\ncrafts,cooking, decorations anddesigns, fashionandwilltakemeasures\\ntogenerate employment opportunities. Thiswillbea\\nkeysiteoftouristattraction.\\nToday,\\nbook\\npublication\\nhas\\nfaced\\ncompetition\\nwith\\nthe\\ne-book\\ntechnology.\\nWe\\nwillbe\\ntaking\\nmeasures\\ntostrengthen theeconomic powerofboththewritersandpublishers by\\nwidening\\nthefacilities forprintingbooks.\\nFurther,\\nwe\\nwillcreatethesupport required toupliftstagedrama,ballet,andoperainSri\\nLanka.\\nWe\\nwillreawaken theSAARCCultural Centre,andlaya\\nstrong\\nfoundation\\nforartand\\ncultural\\nactivities\\noftheregion.\\n'),\n",
       " Document(metadata={'source': 'ranil_manifesto_compressed-output.pdf', 'page': 53}, page_content='SriLanka\\nWe\\nwillcommence a\\npop\\nmusic\\nand\\ndancing\\nacademy\\nfortheyouthwholovethepopular\\nculture.\\nWe\\nwillsetupa\\nfullyequipped theatreineverydistrictandorganize annualeventswiththe\\nculturalcentres,thatarecurrently functioning.\\nAllthegovernment-owned theatersinColombo including theTowerHallandElphinstone\\nTheatre\\nwillbeestablished underoneumbrella instituteanddeveloped toutilisethemina\\nbettermanner.\\nTheNationalFilmCorporation willbeestablished asFilmDevelopment Commission tokeepup\\nwiththecurrentinternational trendsandwillberenamed“FilmSriLanka”.Itwillbea\\ngateway\\ntoraiseourcinemaindustryuptointernational levelondigitalplatforms. TherelevantBillthat\\ngivestheauthority toimplement a\\nnumber\\noftasksfocusingonthedevelopment ofcinemais\\nnow\\natitsfinalstageofdrafting.Aftertheapproval, thegovernment willnotintervene withany\\nofthebusinesses inthefieldofcinemasinceitwillestablished asanindependent entity.Only\\nregulation\\nwould\\nbedonebythegovernment. ThisBillwillbepresented totheParliament in\\n2025.\\nThedraftBillforestablishing thePublicPerformance Classification Boardcancelling thepresent\\nCensor\\nBoard\\nisnowcompleted. Noaccusation shallthusbemadeagainstaworkofartunder\\ncriminal\\nlawiftheworkholdsa\\nclassification\\ncertificate. Thedraftbillwillbepassedinthe\\nParliament\\nin2025.\\nA\\nBeher\\nEnvironment\\nforMedia\\nBoth\\nmulti-community\\nmedia\\nand\\nmodern\\nmedia\\nareneededtocreatea\\nsensitive\\nsociety.\\nWe\\nwillbedraftinga\\nnational\\njournalism\\npolicyandbuildinga\\nstrong\\nfoundation\\ntocreate\\na\\nsociety\\nthatvalueshumanity, discipline, loyaltyandintegrity.\\nWe\\nwillempower andstrengthen journalists andfreelance writers.\\nA\\nhigher\\neducation\\ninstituteonjournalism willbeestablished in2025.\\nWe\\nwillworktowardssolvingtheissuesfacedbytheregionaljournalists.\\nAn\\nElectronic\\nMedia\\nRegulatory\\nCommission\\nwillbeestablished togenerateatransparent\\nmedia\\nenvironment\\nwhich\\nholds\\nvalues.\\n55\\n'),\n",
       " Document(metadata={'source': 'ranil_manifesto_compressed-output.pdf', 'page': 54}, page_content='AUnitedSriLanka\\n'),\n",
       " Document(metadata={'source': 'ranil_manifesto_compressed-output.pdf', 'page': 55}, page_content=\"One\\nNation\\nSriLanka\\nSriLankaishometopeoplefromdifferent ethnicities, allofwhomarecitizensofthe\\ncountry\\nand\\nthus\\nhave\\nthe\\nrighttolivedecentlives.Wewillensurehappyandfreeliving\\nforallina\\nunified\\nSriLanka.\\nTwo\\nyears\\nago,theeconomic crisisshattered thepeople's hopesinallaspects. Peoplelost\\nthehopeofmovingforward.\\nBut\\nnow,\\nthe\\ntime\\nhas\\ncome\\nforeveryone tobeunitedandcometogether tocreatea\\nbeautiful\\nfuture\\nforthecountry. Thefuturewhichwewillbecreating willbenefits all\\ncitizens\\nequally,\\nirrespective\\nofethnicity.\\nNo\\ncitizen\\nwho\\nspeaks\\ninTamilshouldbeneglected bytheSinhalacommunity, and\\nsimilarly,\\nnocitizenwhospeaksinSinhalashouldbeneglected bytheTamilandMuslim\\ncommunities.\\nWe\\nwill\\nmake\\nsure\\nthat\\nan\\natmosphere\\nwhere\\npeople\\nfrom\\ndifferent\\nethnicities\\nand\\nreligions\\ncould\\nliveharmoniously likerelatives andfriends,willbecreated.\\nWe\\nwillgiveprominence toreconciliation andcreating prosperous livesforallcitizens.\\nViable\\nsolutions\\nwill\\nbe\\nprovided\\nfor\\nthe\\nsocial,\\neconomic,\\npolitical,\\ncultural\\nand\\neducational\\nissues\\noftheNorthern andEasternprovinces.\\nThe\\nlands\\npeople\\nhave\\nlostduringthetimeofwarisa\\ncomplex\\nissue.A\\nNational\\nLand\\nCommission\\nwillbeestablished toprovideviablesolutions fortheselandissues.\\nTamil\\nand\\nMuslim\\ncommunities\\nintheNorthern andEasternprovinces whohavestarted\\nlivesanewafterthewararefacinga\\nnumber\\nofissues.Thefollowing actionwillbetaken\\ntoaddresstheirissues;\\n•\\nEnacting\\ntheTruthandReconciliation Act\\n•\\nImplementing\\nthe\\nNawaz\\nCommission\\nReport\\nonmissingpersons\\n•\\nProvide\\nfinancial\\nassistance\\ntotherehabilitated LTTEmembers toengage in\\nself-employment\\n57\\n\"),\n",
       " Document(metadata={'source': 'ranil_manifesto_compressed-output.pdf', 'page': 56}, page_content='58\\nA\\nGreat\\nPower\\nA\\nsingle\\ngovernment\\nwillnotbeabletoaccomplish alltheseworkoverthenextfiveyears\\nonitsown.Therefore, boththecentralgovernment andthelocalgovernment systemneed\\ntocollaboratively sharetheresponsibility.\\nBased\\non\\nthe\\nproposals\\nwe\\nhave\\nmade\\nabout\\nimplementing\\nthe\\n13th\\nAmendment\\ntothe\\nConstitution;\\n1.\\nWe\\nwilldevolvepowertotheProvincial Councils aspertheConstitution. The\\npowers\\noftheProvincial Councils thatcomeunderSchedule 1,whicharenow\\nvested\\nunder\\ntheCentralGovernment willbedevolved backtotheProvincial\\nCouncils.\\n2.\\nThe\\ndecision\\nofvestingpolicepowerstoProvincial Councils willbedecided bythe\\nnew\\nParliament.\\n3.\\nThe\\npowers\\ngiven\\nunder\\nSchedule\\n3\\nthatareapproved bythepartyleaderswillbe\\ngiven\\ntotheProvincial Councils.\\nProvincial\\nCouncils\\nwillbegiventhepoweroverthefollowing areas;\\n•\\nSchool\\neducation\\n•\\nVocational\\ntraining\\n•\\nDegree\\nawarding\\ninstitutions\\n(with\\ntheabilitytoupgrade touniversity levellater,ifnecessary)\\n•\\nProvincial\\ntourism\\npromotion\\n•\\nAgriculture\\nmodernization\\nRequired\\nlaws\\nwillbepassedregarding theabove.\\nWe\\nwill\\nbe\\ntaking\\nmeasures\\nto\\nestablish\\nDistrict\\nDevelopment\\nCommittees.\\nEvery\\ncommunity\\nirrespective\\nofthefacttheyareSinhalese, Tamil,Muslim, Burgher, Malay,\\nIndigenous\\norother,willhavetherighttoactindependently witha\\nsense\\nofjusticeas\\nmembers\\nofonenationdespitedifferent views.Newlawswillbeformulated todevolve\\npowers\\nfrom\\nthe\\nCentral\\nGovernment\\nto\\nProvincial\\nCouncils\\nand\\nLocal\\nGovernment\\nAuthorities.\\nItisexpected tochangethelocalgovernment systemintheyear2025.Wewillrestructure\\nthe\\npresent\\nUrban\\nCouncils\\nand\\nupgrade\\nthem\\ntoMunicipal Councils. A\\nsystem\\nwhere\\npower\\nisexecuted through Pradeshiya SabhasandMunicipal Councils shallbeintroduced.\\n'),\n",
       " Document(metadata={'source': 'ranil_manifesto_compressed-output.pdf', 'page': 57}, page_content=''),\n",
       " Document(metadata={'source': 'ranil_manifesto_compressed-output.pdf', 'page': 58}, page_content=''),\n",
       " Document(metadata={'source': 'ranil_manifesto_compressed-output.pdf', 'page': 59}, page_content=''),\n",
       " Document(metadata={'source': 'ranil_manifesto_compressed-output.pdf', 'page': 60}, page_content=\"Ranilwillwinthiselection.Thereisabsolutely nodoubt.\\nTwo\\nyearsago,wewitnessed sadnesseverywhere. Wesawpeoplelanguishing inqueuesfor\\nessential\\nneeds.\\nHomes\\nwere\\nindarkness. Therewasnoelectricity. Peoplecouldn'teven\\nengage\\nintheirjobs.Everyone hadeconomic difficulties.\\nButtoday,weseea\\ncountry\\nthatsmiles.Acountryilluminated withlightandhope.Acountry\\nwhere\\npeople\\ncanearnalivingandlivefreely.\\nWho\\nbrought\\nthischange?Ranil.Yes,Ranil.\\nRanilisaleaderwhoknowshowtofacechallenges. Hefinisheswhathestarts.Hedoesnotgive\\nupmid-way.Hehasalwaysbeenlikethat.Hetalksless,andheactswithprecision.\\nItwastwenty-three yearsagowhenheenvisioned givingfreeholddeedstopeopleanddidthe\\ngroundwork.\\nHestrovetomakeita\\nrealityalltheseyears.ThePresidents beforehimnever\\npermitted\\ntheproposal, butRanilnevergaveup.Today,peoplenotonlyhavetherightsof\\nownership\\ntothelandsbutalsothehouses.\\nTherefore,\\nitiscrystalclearthatitisonlyRanilwhocanelevateourcountrytoahigherstandard.\\nItisonlyhimwhocanmakeourlivesbetter.Ranil,andRanilalone.\\nWhen\\nothercandidates fightoverthePresidency, Ranilisfarremovedfromthebattle.For,he\\nhas\\nno\\nfight\\nagainst\\nindividuals.\\nHis\\nfight\\nisagainst\\npoverty,\\nunemployment\\nand\\nmalnourishment.\\nHeisnotfightingfora\\nposition.Heisinthemidstofastruggletomakethelivesoftheyouth\\nbetter.\\nRanilisfightingtobringvictorytoourmotherland. HisbattleistomakeSriLankaadeveloped\\nnation,thatisapleasuretolivein.\\nThatiswhyRanilwillwinthiselection.ThatiswhyRanilwillremainunbeatable.\\nHebelieveswecan.\\nYes,wecan!\\n\"),\n",
       " Document(metadata={'source': 'ranil_manifesto_compressed-output.pdf', 'page': 61}, page_content='')]"
      ]
     },
     "execution_count": 19,
     "metadata": {},
     "output_type": "execute_result"
    }
   ],
   "source": [
    "ranil_data"
   ]
  },
  {
   "cell_type": "code",
   "execution_count": 3,
   "metadata": {},
   "outputs": [],
   "source": [
    "from langchain.text_splitter import RecursiveCharacterTextSplitter\n",
    "\n",
    "# split data\n",
    "text_splitter = RecursiveCharacterTextSplitter(chunk_size=500, chunk_overlap=100)\n",
    "\n",
    "sajith_docs = text_splitter.split_documents(sajith_data)\n",
    "akd_docs = text_splitter.split_documents(akd_data)\n",
    "ranil_docs = text_splitter.split_documents(ranil_data)"
   ]
  },
  {
   "cell_type": "code",
   "execution_count": 4,
   "metadata": {},
   "outputs": [
    {
     "data": {
      "text/plain": [
       "(224, 122, 127)"
      ]
     },
     "execution_count": 4,
     "metadata": {},
     "output_type": "execute_result"
    }
   ],
   "source": [
    "len(sajith_docs), len(akd_docs), len(ranil_docs)"
   ]
  },
  {
   "cell_type": "code",
   "execution_count": 5,
   "metadata": {},
   "outputs": [],
   "source": [
    "from langchain_chroma import Chroma\n",
    "from langchain_google_genai import GoogleGenerativeAIEmbeddings\n",
    "\n",
    "embeddings = GoogleGenerativeAIEmbeddings(model=\"models/embedding-001\")"
   ]
  },
  {
   "cell_type": "code",
   "execution_count": 6,
   "metadata": {},
   "outputs": [],
   "source": [
    "vectorstore = Chroma.from_documents(sajith_docs, embeddings, collection_name=\"sajith_premadasa\")\n",
    "retriever_sajith = vectorstore.as_retriever(search_kwargs={\"k\": 10})"
   ]
  },
  {
   "cell_type": "code",
   "execution_count": 7,
   "metadata": {},
   "outputs": [],
   "source": [
    "vectorstore = Chroma.from_documents(akd_docs, embeddings, collection_name=\"anura_kumara_dissanayake\")\n",
    "retriever_akd = vectorstore.as_retriever(search_kwargs={\"k\": 10})"
   ]
  },
  {
   "cell_type": "code",
   "execution_count": 8,
   "metadata": {},
   "outputs": [],
   "source": [
    "vectorstore = Chroma.from_documents(ranil_docs, embeddings, collection_name=\"ranil_wickramasinghe\")\n",
    "retriever_ranil = vectorstore.as_retriever(search_kwargs={\"k\": 10})"
   ]
  },
  {
   "cell_type": "code",
   "execution_count": 9,
   "metadata": {},
   "outputs": [],
   "source": [
    "from typing import List, Optional\n",
    "\n",
    "from langchain_core.pydantic_v1 import BaseModel, Field\n",
    "\n",
    "\n",
    "# class Search(BaseModel):\n",
    "#     \"\"\"Search for information about a person.\"\"\"\n",
    "\n",
    "#     query: str = Field(\n",
    "#         ...,\n",
    "#         description=\"Query to look up\",\n",
    "#     )\n",
    "#     person: str = Field(\n",
    "#         ...,\n",
    "#         description=\"Person to look things up for. Should be `sajith` or `anura_kumara_dissanayake`.\",\n",
    "#     )\n",
    "\n",
    "\n",
    "# class Compare(BaseModel):\n",
    "#     \"\"\"Search for information about a person.\"\"\"\n",
    "\n",
    "#     query: str = Field(\n",
    "#         ...,\n",
    "#         description=\"Query to compare\",\n",
    "#     )\n",
    "#     persons: list = Field(\n",
    "#         ...,\n",
    "#         description=\"Persons list to compare things up for. Should be `sajith` or `anura_kumara_dissanayake`.\",\n",
    "#     )\n",
    "\n",
    "class SearchAndCompare(BaseModel):\n",
    "    \"\"\"Search for information about a person or compare informations about persons.\"\"\"\n",
    "\n",
    "    queryType: str = Field(\n",
    "        ...,\n",
    "        description=\"Query type. Should be `search` or `compare`. if there's only one person name it's search, if there are many person's name it's compare\",)\n",
    "\n",
    "    query: str = Field(\n",
    "        ...,\n",
    "        description=\"Query to look up or query to compare\",\n",
    "    )\n",
    "\n",
    "    candidates: int = Field(\n",
    "        ...,\n",
    "        description=\"Number of persons to search or compare.\",\n",
    "    )\n",
    "\n",
    "    person1: str = Field(\n",
    "        ...,\n",
    "        description=\"Person to look things up for or persons to compare. Should be `sajith_premadasa` or `anura_kumara_dissanayake` or `ranil_wickramasinghe` or can be 'null'.\",\n",
    "    )\n",
    "    person2: str = Field(\n",
    "        ...,\n",
    "        description=\"Person to look things up for or persons to compare. Should be `sajith_premadasa` or `anura_kumara_dissanayake` or `ranil_wickramasinghe` or can be 'null'.\",\n",
    "    )\n",
    "    person3: str = Field(\n",
    "        ...,\n",
    "        description=\"Person to look things up for or persons to compare. Should be `sajith_premadasa` or `anura_kumara_dissanayake` or `ranil_wickramasinghe` or can be 'null'.\",\n",
    "    )\n",
    "\n",
    "\n",
    "\n",
    "    # persons: str = Field(\n",
    "    #     ...,\n",
    "    #     description=\"should be in a format `[person1, person2, ...]`\",\n",
    "    # )"
   ]
  },
  {
   "cell_type": "code",
   "execution_count": 10,
   "metadata": {},
   "outputs": [],
   "source": [
    "from langchain_core.output_parsers.openai_tools import PydanticToolsParser\n",
    "from langchain_core.prompts import ChatPromptTemplate\n",
    "from langchain_core.runnables import RunnablePassthrough\n",
    "from langchain_google_genai import ChatGoogleGenerativeAI\n",
    "\n",
    "# output_parser = PydanticToolsParser(tools=[Search, Compare])\n",
    "\n",
    "system = \"\"\"You have the ability to issue search queries or compare queries to get information to help answer user information.\"\"\"\n",
    "prompt = ChatPromptTemplate.from_messages(\n",
    "    [\n",
    "        (\"system\", system),\n",
    "        (\"human\", \"{question}\"),\n",
    "    ]\n",
    ")\n",
    "llm = ChatGoogleGenerativeAI(model=\"gemini-1.5-flash\",temperature=0.3, max_tokens=1000)\n",
    "structured_llm = llm.with_structured_output(SearchAndCompare)\n",
    "query_analyzer = {\"question\": RunnablePassthrough()} | prompt | structured_llm"
   ]
  },
  {
   "cell_type": "code",
   "execution_count": 11,
   "metadata": {},
   "outputs": [
    {
     "data": {
      "text/plain": [
       "SearchAndCompare(queryType='compare', query='sustainable growth', candidates=3, person1='anura_kumara_dissanayake', person2='sajith_premadasa', person3='ranil_wickramasinghe')"
      ]
     },
     "execution_count": 11,
     "metadata": {},
     "output_type": "execute_result"
    }
   ],
   "source": [
    "query_analyzer.invoke(\"what does anura and sajith and ranil say about sustainable growth?\")"
   ]
  },
  {
   "cell_type": "code",
   "execution_count": 12,
   "metadata": {},
   "outputs": [],
   "source": [
    "from langchain_core.runnables import chain"
   ]
  },
  {
   "cell_type": "code",
   "execution_count": 13,
   "metadata": {},
   "outputs": [],
   "source": [
    "retrievers = {\n",
    "    \"sajith_premadasa\": retriever_sajith,\n",
    "    \"anura_kumara_dissanayake\": retriever_akd,\n",
    "    \"ranil_wickramasinghe\": retriever_ranil,\n",
    "}"
   ]
  },
  {
   "cell_type": "code",
   "execution_count": 14,
   "metadata": {},
   "outputs": [],
   "source": [
    "@chain\n",
    "def searchAndCompareChain(question):\n",
    "    response = query_analyzer.invoke(question)\n",
    "    print(response)\n",
    "\n",
    "    if response.queryType == \"search\":\n",
    "        retriever = retrievers[response.person1]\n",
    "        retrieved_docs = retriever.invoke(response.query)\n",
    "\n",
    "        prompt = (\n",
    "        \"system :\"\n",
    "        \"You are an assistant for question-answering tasks. \"\n",
    "        \"Use the following pieces of retrieved context to answer \"\n",
    "        \"the question. If you don't know the answer, say that you \"\n",
    "        \"don't know.\"\n",
    "        \"\\n\\n\"\n",
    "        \"{context}\"\n",
    "        \"\\n\\n\"\n",
    "\n",
    "        \"human :\"\n",
    "        \"{question}\"\n",
    "        ).format(context=retrieved_docs, question=question)\n",
    "\n",
    "        result = llm.invoke(prompt)\n",
    "\n",
    "        return result\n",
    "    \n",
    "    elif response.queryType == \"compare\":\n",
    "        retriever1 = retrievers[response.person1]\n",
    "        retrieved_docs1 = retriever1.invoke(response.query)\n",
    "\n",
    "        if response.person2 != 'null':\n",
    "            retriever2 = retrievers[response.person2]\n",
    "            retrieved_docs2 = retriever2.invoke(response.query)\n",
    "        else:\n",
    "            retrieved_docs2 = ''\n",
    "\n",
    "        if response.person3 != 'null':\n",
    "            retriever3 = retrievers[response.person3]\n",
    "            retrieved_docs3 = retriever3.invoke(response.query)\n",
    "        else:\n",
    "            retrieved_docs3 = ''\n",
    "\n",
    "        # print(\"=====================================\")\n",
    "        # print(retrieved_docs1)\n",
    "        # print(\"=====================================\")\n",
    "        # print(retrieved_docs2)\n",
    "        # print(\"=====================================\")\n",
    "        # print(retrieved_docs3)\n",
    "        # print(\"=====================================\")\n",
    "\n",
    "        prompt = (\n",
    "        \"system :\"\n",
    "        \"You are an assistant for comparing manifestos. \"\n",
    "        \"Use the following pieces of retrieved context from different manifestos to answer \"\n",
    "        \"the question. If you don't know the answer, say that you \"\n",
    "        \"don't know.\"\n",
    "        \"\\n\\n\"\n",
    "        \"{context1}\"\n",
    "        \"\\n\\n\"\n",
    "        \"{context2}\"\n",
    "        \"\\n\\n\"\n",
    "        \"{context3}\"\n",
    "        \"\\n\\n\"\n",
    "\n",
    "        \"human :\"\n",
    "        \"{question}\"\n",
    "        ).format(context1=retrieved_docs1, context2=retrieved_docs2, context3=retrieved_docs3, question=question)\n",
    "\n",
    "        result = llm.invoke(prompt)\n",
    "\n",
    "        return result\n",
    "\n",
    "        \n",
    "        "
   ]
  },
  {
   "cell_type": "code",
   "execution_count": 22,
   "metadata": {},
   "outputs": [
    {
     "name": "stdout",
     "output_type": "stream",
     "text": [
      "queryType='compare' query='education' candidates=2 person1='anura_kumara_dissanayake' person2='sajith_premadasa' person3='null'\n",
      "Here's what the AKD and Sajith manifestos say about education:\n",
      "\n",
      "**AKD Manifesto:**\n",
      "\n",
      "* **Reforming Engineering Education:**  AKD focuses on restructuring engineering education to produce industry-related practitioners. They aim to create a regulatory environment that fosters innovation and addresses sector-specific challenges.\n",
      "* **Free Education and Materials:**  AKD proposes free access to education services, health, and education networks. They also advocate for equal education opportunities across the country with free access to educational materials.\n",
      "\n",
      "**Sajith Manifesto:**\n",
      "\n",
      "* **Human Capital Development:**  Sajith prioritizes human capital development through education. They emphasize improving educational outcomes, developing job-relevant skills, and fostering innovation.\n",
      "* **Smart Schools:**  The manifesto aims to transform every school into a smart school by providing 100% electricity, water facilities, and physical resources.\n",
      "* **Digital Learning Platforms:**  Sajith proposes expanding the \"Sakwala\" program to provide students with access to digital learning platforms in schools and technical institutions.\n",
      "* **Teacher Support:**  They pledge to provide free public transportation to all teachers and address long-standing salary, pension, and service issues in the education sector.\n",
      "* **English Language Proficiency:**  Sajith aims to design primary and secondary education with modern technology to ensure students can understand, speak, and write English from an early age.\n",
      "* **Early Childhood Education (ECE):**  They recognize the importance of ECE and will establish a regulatory authority with a multi-stakeholder advisory committee to upgrade child-friendly and modern infrastructure.\n",
      "* **STEEAM Education:**  Sajith plans to create a \"STEEAM\" education system that prioritizes Science, Technology, English, Engineering, Arts, and Mathematics in all educational institutions.\n",
      "* **Vocational Training:**  They will modernize and standardize vocational training curricula to align with market demands and ensure graduates have in-demand skills.\n",
      "\n",
      "**In summary:** Both manifestos emphasize the importance of education, but they have different focuses. AKD focuses on reforming engineering education and providing free access to education. Sajith focuses on human capital development, smart schools, digital learning, and improving the overall quality of education. \n",
      "\n"
     ]
    }
   ],
   "source": [
    "question = \"what akd and sajth says about education?\"\n",
    "result = searchAndCompareChain.invoke(question) \n",
    "print(result.content)"
   ]
  }
 ],
 "metadata": {
  "kernelspec": {
   "display_name": "rag-llm",
   "language": "python",
   "name": "python3"
  },
  "language_info": {
   "codemirror_mode": {
    "name": "ipython",
    "version": 3
   },
   "file_extension": ".py",
   "mimetype": "text/x-python",
   "name": "python",
   "nbconvert_exporter": "python",
   "pygments_lexer": "ipython3",
   "version": "3.11.9"
  }
 },
 "nbformat": 4,
 "nbformat_minor": 2
}
