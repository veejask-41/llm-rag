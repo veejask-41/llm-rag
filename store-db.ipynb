{
 "cells": [
  {
   "cell_type": "code",
   "execution_count": 1,
   "metadata": {},
   "outputs": [
    {
     "name": "stderr",
     "output_type": "stream",
     "text": [
      "USER_AGENT environment variable not set, consider setting it to identify your requests.\n"
     ]
    }
   ],
   "source": [
    "from langchain_community.document_loaders import WebBaseLoader\n",
    "from langchain.text_splitter import RecursiveCharacterTextSplitter\n",
    "from langchain_chroma import Chroma\n",
    "from langchain_google_genai import GoogleGenerativeAIEmbeddings\n",
    "from langchain_google_genai import ChatGoogleGenerativeAI\n",
    "from langchain_community.document_loaders import PyPDFLoader\n",
    "from pydantic import BaseModel, Field\n",
    "from langchain_core.prompts import ChatPromptTemplate\n",
    "from langchain_core.runnables import RunnablePassthrough\n",
    "from langchain_core.runnables import chain\n",
    "from langchain.chains import create_history_aware_retriever\n",
    "from langchain_core.prompts import MessagesPlaceholder\n",
    "from langchain_core.messages import AIMessage, HumanMessage\n",
    "from IPython.display import Markdown, display"
   ]
  },
  {
   "cell_type": "code",
   "execution_count": 7,
   "metadata": {},
   "outputs": [],
   "source": [
    "embeddings = GoogleGenerativeAIEmbeddings(model=\"models/embedding-001\")\n",
    "llm = ChatGoogleGenerativeAI(model=\"gemini-1.5-flash\",temperature=0.3, max_tokens=1000)\n",
    "chat_history = []\n",
    "\n",
    "\n",
    "# general information\n",
    "url_list = [\n",
    "    \"https://apnews.com/article/sri-lanka-presidential-election-explained-wickremesinghe-e203abecd36d04fde21e927b9be8ba71\",\n",
    "    \"https://www.electionguide.org/elections/id/4364/\",\n",
    "    \"https://thediplomat.com/2024/08/sri-lankas-anura-dissanayake-a-strong-contender-for-president/\",\n",
    "    \"https://www.isas.nus.edu.sg/papers/sri-lanka-election-2024-key-political-candidates-and-campaigns/\",\n",
    "    \"https://www.thehindu.com/news/international/in-southern-sri-lanka-a-chant-for-change-this-poll-season/article68628670.ece\",\n",
    "    \"https://groundviews.org/2024/09/04/the-hard-truth-supporting-ranil-now-could-trigger-the-next-crisis/\",\n",
    "    \"https://groundviews.org/2024/08/29/the-jvp-and-ethnic-relations-walking-a-tightrope-to-2024-part-1/\",\n",
    "    \"https://groundviews.org/2024/09/10/changes-in-support-for-the-leading-presidential-candidates/\",\n",
    "    \"https://groundviews.org/2024/09/13/voters-want-more-government-spending-on-health-and-education/\",\n",
    "    \"https://groundviews.org/2024/07/18/a-k-dissanayake-continues-to-lead-in-favourability-ratings/\",\n",
    "    \"https://groundviews.org/2024/07/22/the-three-way-contest-to-win-the-presidency/\",\n",
    "    \"https://www.vifindia.org/article/2024/september/05/Sri-Lanka-at-the-Crossroads-The-Presidential-Election-2024\",\n",
    "    \"https://www.dailymirror.lk/breaking-news/Anura-rebuffs-Ranils-proposal-to-invite-IMF-for-debate/108-291616\"\n",
    "]\n",
    "general_loader = WebBaseLoader(url_list)\n",
    "general_data = general_loader.load()\n",
    "text_splitter = RecursiveCharacterTextSplitter(chunk_size=500, chunk_overlap=100)\n",
    "general_docs = text_splitter.split_documents(general_data)\n",
    "vectorstore_general = Chroma.from_documents(general_docs, embeddings, collection_name=\"general\", persist_directory=\"local_chroma_db\")\n",
    "\n",
    "# sajith's manifesto\n",
    "sajith_loader = PyPDFLoader(\"Sajith_manifesto_english.pdf\")\n",
    "sajith_data = sajith_loader.load()\n",
    "sajith_docs = text_splitter.split_documents(sajith_data)\n",
    "vectorstore_sajith = Chroma.from_documents(sajith_docs, embeddings, collection_name=\"sajith_premadasa\", persist_directory=\"local_chroma_db\")\n",
    "\n",
    "# akd's manifesto\n",
    "akd_loader = PyPDFLoader(\"AKD Manifesto.pdf\")\n",
    "akd_data = akd_loader.load()\n",
    "akd_docs = text_splitter.split_documents(akd_data)\n",
    "vectorstore_akd = Chroma.from_documents(akd_docs, embeddings, collection_name=\"anura_kumara_dissanayake\", persist_directory=\"local_chroma_db\")\n",
    "\n",
    "# ranil's manifesto\n",
    "ranil_loader = PyPDFLoader(\"ranil_manifesto_compressed-output.pdf\")\n",
    "ranil_data = ranil_loader.load()\n",
    "ranil_docs = text_splitter.split_documents(ranil_data)\n",
    "vectorstore_ranil = Chroma.from_documents(ranil_docs, embeddings, collection_name=\"ranil_wickramasinghe\", persist_directory=\"local_chroma_db\")"
   ]
  },
  {
   "cell_type": "code",
   "execution_count": 8,
   "metadata": {},
   "outputs": [],
   "source": [
    "vectorstore_sajith_loaded = Chroma(persist_directory=\"local_chroma_db\", embedding_function=embeddings, collection_name=\"sajith_premadasa\")\n",
    "retriever_sajith_loaded = vectorstore_sajith_loaded.as_retriever(search_kwargs={\"k\": 10})"
   ]
  },
  {
   "cell_type": "code",
   "execution_count": 9,
   "metadata": {},
   "outputs": [
    {
     "data": {
      "text/plain": [
       "[Document(metadata={'page': 20, 'source': 'Sajith_manifesto_english.pdf'}, page_content='21\\nEDUCATION, \\nVOCATIONAL \\nTRAINING & YOUTH\\nEducation is a fundamental right. Human \\ncapital development is our priority. \\n• In recognition of their crucial role in \\ndeveloping the nation’s human capital, \\nthe government will provide free public \\ntransportation to all teachers across Sri \\nLanka. \\n• Formulating a work plan by making \\npolicy decisions before January 2025 to \\naddress long drawn-out salary, pension \\nand service issues in the education \\nsector.\\n• Developing a roadmap to transform'),\n",
       " Document(metadata={'page': 20, 'source': 'Sajith_manifesto_english.pdf'}, page_content='and service issues in the education \\nsector.\\n• Developing a roadmap to transform \\nevery school into a smart school by \\nproviding 100% electricity, water \\nfacilities, and physical resources to all \\nschools in Sri Lanka. \\n• Teacher vacancies for the teaching of \\nreligion will be filled. Religious teaching \\nin schools will be handled by those \\nqualified in teaching religion.\\n• Building a Smart Sri Lanka, ensuring \\nstudents can access digital learning \\nplatforms in schools shall be prioritised'),\n",
       " Document(metadata={'page': 20, 'source': 'Sajith_manifesto_english.pdf'}, page_content='students can access digital learning \\nplatforms in schools shall be prioritised \\nvia an expanded ‘Sakwala’ programme. \\nThis shall involve a total overhaul \\nof delivering content using digital \\ntechnology. This programme shall be \\nextended to technical and vocational \\ninstitutions and universities making \\nquality education services affordable. \\nCreate 10,096 foster school programme \\nthat attract generous donors to support \\nthe establishment and improvement of'),\n",
       " Document(metadata={'page': 20, 'source': 'Sajith_manifesto_english.pdf'}, page_content='stakeholder advisory committee, \\nupgrade child-friendly and modern \\ninfrastructure, enhance teacher training \\nand accreditation, and promote parental \\nengagement.\\n• Primary and secondary school education \\nwill be designed with the use of tools of \\nmodern technology so that a student \\ncan understand, speak, and write English \\nfrom an early stage of schooling. \\n• All school going girl students from Grade \\n6 -13 can avail themselves on a self-\\nselection basis to receive a monthly'),\n",
       " Document(metadata={'page': 4, 'source': 'Sajith_manifesto_english.pdf'}, page_content='governance with the necessary system reforms. \\nIn our pursuit of prosperity, special attention will be provided to the crucial \\nsectors of housing, healthcare and education. We will ensure every citizen can \\naccess quality housing. The healthcare sector, which is facing myriad crises, will \\nbe reinforced with professional and technological resources to create a healthy \\nnation. The education sector will be revamped to build internationally competitive'),\n",
       " Document(metadata={'page': 20, 'source': 'Sajith_manifesto_english.pdf'}, page_content='resource specialists. Efforts will be made \\nto give due consideration to modern \\ntechnological trends including Artificial \\nIntelligence.\\n• Simplifying and restructuring the Grade \\n5 Scholarship Examination, which has \\nput children under immense mental \\nstress.\\n• Recognizing Early Childhood Education \\n(ECE) as fundamental to developing \\nresponsible citizens, we will establish \\na regulatory authority with a multi-\\nstakeholder advisory committee, \\nupgrade child-friendly and modern'),\n",
       " Document(metadata={'page': 20, 'source': 'Sajith_manifesto_english.pdf'}, page_content='• Initiating actions from January 2025 \\nto create a system of “STEEAM” \\neducation that prioritizes Science, \\nTechnology, English, Engineering, Arts, \\nand Mathematics in all institutions of \\neducation by expediting teacher training \\nactivities. \\n• When updating school curricula, expert \\nopinions will be sought from domestic, \\nmultilateral institutions, and foreign \\ngovernments and private sector human \\nresource specialists. Efforts will be made \\nto give due consideration to modern'),\n",
       " Document(metadata={'page': 21, 'source': 'Sajith_manifesto_english.pdf'}, page_content='research collaborations, and student \\nexchange programme. \\n• The current loan programme of the \\ngovernment for education at non-\\ngovernmental and private universities \\nwill be expanded to cover recognized \\nprivate vocational training institutions \\nas well. \\n• Vocational training curricula will be \\ncomprehensively modernized and \\nstandardized to align with current \\nmarket demands, ensuring graduates \\npossess relevant, in-demand skills.\\n• 19 The youth, who are the lifeblood'),\n",
       " Document(metadata={'page': 4, 'source': 'Sajith_manifesto_english.pdf'}, page_content='nation. The education sector will be revamped to build internationally competitive \\nhuman capital, which can thrive in a rapidly changing world while contributing to \\nthe growth of Sri Lanka. \\nThroughout history, nations have been developed with strong team leadership. \\nThis is why the SJS has assembled the most qualified and pragmatic, team of \\npoliticians to ensure that the ambitious goals in this manifesto are achieved.'),\n",
       " Document(metadata={'page': 21, 'source': 'Sajith_manifesto_english.pdf'}, page_content='possess relevant, in-demand skills.\\n• 19 The youth, who are the lifeblood \\nof the country, should be satisfied \\nand happy citizens. To productively \\nutilize their labor contribution for \\nthe country’s development, we will \\nprovide them with the latest facilities \\nfor education, vocational training, and entrepreneurship, facilitating their \\naccess to new domestic and foreign \\nopportunities.\\nWOMEN AND CHILD \\nEMPOWERMENT \\n• The government will encourage private')]"
      ]
     },
     "execution_count": 9,
     "metadata": {},
     "output_type": "execute_result"
    }
   ],
   "source": [
    "retriever_sajith_loaded.invoke(\"education\")"
   ]
  }
 ],
 "metadata": {
  "kernelspec": {
   "display_name": "rag-llm",
   "language": "python",
   "name": "python3"
  },
  "language_info": {
   "codemirror_mode": {
    "name": "ipython",
    "version": 3
   },
   "file_extension": ".py",
   "mimetype": "text/x-python",
   "name": "python",
   "nbconvert_exporter": "python",
   "pygments_lexer": "ipython3",
   "version": "3.11.9"
  }
 },
 "nbformat": 4,
 "nbformat_minor": 2
}
