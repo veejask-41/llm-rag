{
 "cells": [
  {
   "cell_type": "code",
   "execution_count": 1,
   "metadata": {},
   "outputs": [
    {
     "name": "stderr",
     "output_type": "stream",
     "text": [
      "USER_AGENT environment variable not set, consider setting it to identify your requests.\n"
     ]
    }
   ],
   "source": [
    "from langchain_community.document_loaders import WebBaseLoader\n",
    "from langchain.text_splitter import RecursiveCharacterTextSplitter\n",
    "from langchain_chroma import Chroma\n",
    "from langchain_google_genai import GoogleGenerativeAIEmbeddings\n",
    "from langchain_community.document_loaders import PyPDFLoader\n",
    "from langchain_core.pydantic_v1 import BaseModel, Field\n",
    "from langchain_core.prompts import ChatPromptTemplate\n",
    "from langchain_core.runnables import RunnablePassthrough\n",
    "from langchain_google_genai import ChatGoogleGenerativeAI\n",
    "from langchain_core.runnables import chain\n",
    "\n",
    "\n",
    "embeddings = GoogleGenerativeAIEmbeddings(model=\"models/embedding-001\")\n",
    "llm = ChatGoogleGenerativeAI(model=\"gemini-1.5-flash\",temperature=0.3, max_tokens=1000)\n",
    "\n",
    "\n",
    "# general information\n",
    "url_list = [\n",
    "    \"https://apnews.com/article/sri-lanka-presidential-election-explained-wickremesinghe-e203abecd36d04fde21e927b9be8ba71\",\n",
    "    \"https://www.electionguide.org/elections/id/4364/\",\n",
    "    \"https://thediplomat.com/2024/08/sri-lankas-anura-dissanayake-a-strong-contender-for-president/\",\n",
    "    \"https://www.isas.nus.edu.sg/papers/sri-lanka-election-2024-key-political-candidates-and-campaigns/\",\n",
    "    \"https://www.thehindu.com/news/international/in-southern-sri-lanka-a-chant-for-change-this-poll-season/article68628670.ece\",\n",
    "    \"https://groundviews.org/2024/09/04/the-hard-truth-supporting-ranil-now-could-trigger-the-next-crisis/\",\n",
    "    \"https://groundviews.org/2024/08/29/the-jvp-and-ethnic-relations-walking-a-tightrope-to-2024-part-1/\",\n",
    "    \"https://groundviews.org/2024/09/10/changes-in-support-for-the-leading-presidential-candidates/\",\n",
    "    \"https://groundviews.org/2024/09/13/voters-want-more-government-spending-on-health-and-education/\",\n",
    "    \"https://groundviews.org/2024/07/18/a-k-dissanayake-continues-to-lead-in-favourability-ratings/\",\n",
    "    \"https://groundviews.org/2024/07/22/the-three-way-contest-to-win-the-presidency/\",\n",
    "    \"https://www.vifindia.org/article/2024/september/05/Sri-Lanka-at-the-Crossroads-The-Presidential-Election-2024\",\n",
    "    \"https://www.dailymirror.lk/breaking-news/Anura-rebuffs-Ranils-proposal-to-invite-IMF-for-debate/108-291616\"\n",
    "]\n",
    "general_loader = WebBaseLoader(url_list)\n",
    "general_data = general_loader.load()\n",
    "text_splitter = RecursiveCharacterTextSplitter(chunk_size=500, chunk_overlap=100)\n",
    "general_docs = text_splitter.split_documents(general_data)\n",
    "vectorstore_general = Chroma.from_documents(general_docs, embeddings, collection_name=\"general\")\n",
    "retriever_general = vectorstore_general.as_retriever(search_kwargs={\"k\": 10})\n",
    "\n",
    "\n",
    "# sajith's manifesto\n",
    "sajith_loader = PyPDFLoader(\"Sajith_manifesto_english.pdf\")\n",
    "sajith_data = sajith_loader.load()\n",
    "sajith_docs = text_splitter.split_documents(sajith_data)\n",
    "vectorstore_sajith = Chroma.from_documents(sajith_docs, embeddings, collection_name=\"sajith_premadasa\")\n",
    "retriever_sajith = vectorstore_sajith.as_retriever(search_kwargs={\"k\": 10})\n",
    "\n",
    "# akd's manifesto\n",
    "akd_loader = PyPDFLoader(\"AKD Manifesto.pdf\")\n",
    "akd_data = akd_loader.load()\n",
    "akd_docs = text_splitter.split_documents(akd_data)\n",
    "vectorstore_akd = Chroma.from_documents(akd_docs, embeddings, collection_name=\"anura_kumara_dissanayake\")\n",
    "retriever_akd = vectorstore_akd.as_retriever(search_kwargs={\"k\": 10})\n",
    "\n",
    "# ranil's manifesto\n",
    "ranil_loader = PyPDFLoader(\"ranil_manifesto_compressed-output.pdf\")\n",
    "ranil_data = ranil_loader.load()\n",
    "ranil_docs = text_splitter.split_documents(ranil_data)\n",
    "vectorstore_ranil = Chroma.from_documents(ranil_docs, embeddings, collection_name=\"ranil_wickramasinghe\")\n",
    "retriever_ranil = vectorstore_ranil.as_retriever(search_kwargs={\"k\": 10})\n",
    "\n",
    "retrievers = {\n",
    "    \"sajith_premadasa\": retriever_sajith,\n",
    "    \"anura_kumara_dissanayake\": retriever_akd,\n",
    "    \"ranil_wickramasinghe\": retriever_ranil,\n",
    "}\n",
    "\n",
    "class SearchAndCompare(BaseModel):\n",
    "    \"\"\"Search for information about a person or compare informations about persons.\"\"\"\n",
    "\n",
    "    queryType: str = Field(\n",
    "        ...,\n",
    "        description=\"Query type. Should be `search` or `compare` or `general`. if there's only one person name it's search, if there are many person's name it's compare, or it can be a general question which does not require any specific person\",)\n",
    "\n",
    "    query: str = Field(\n",
    "        ...,\n",
    "        description=\"Query to look up or query to compare\",\n",
    "    )\n",
    "\n",
    "    candidates: int = Field(\n",
    "        ...,\n",
    "        description=\"Number of persons to search or compare. can be 0 for general questions\",\n",
    "    )\n",
    "\n",
    "    person1: str = Field(\n",
    "        ...,\n",
    "        description=\"Person to look things up for or persons to compare. Should be `sajith_premadasa` or `anura_kumara_dissanayake` or `ranil_wickramasinghe` or can be 'null'.\",\n",
    "    )\n",
    "    person2: str = Field(\n",
    "        ...,\n",
    "        description=\"Person to look things up for or persons to compare. Should be `sajith_premadasa` or `anura_kumara_dissanayake` or `ranil_wickramasinghe` or can be 'null'.\",\n",
    "    )\n",
    "    person3: str = Field(\n",
    "        ...,\n",
    "        description=\"Person to look things up for or persons to compare. Should be `sajith_premadasa` or `anura_kumara_dissanayake` or `ranil_wickramasinghe` or can be 'null'.\",\n",
    "    )\n",
    "\n",
    "system_query = \"\"\"You have the ability to determine whether the user question is general, or it is related to a specific person or it is a comparison between multiple persons.\"\"\"\n",
    "prompt_query = ChatPromptTemplate.from_messages(\n",
    "    [\n",
    "        (\"system\", system_query),\n",
    "        (\"human\", \"{question}\"),\n",
    "    ]\n",
    ")\n",
    "\n",
    "structured_llm_query = llm.with_structured_output(SearchAndCompare)\n",
    "query_analyzer = {\"question\": RunnablePassthrough()} | prompt_query | structured_llm_query\n",
    "\n",
    "@chain\n",
    "def qa_chain(question):\n",
    "    response = query_analyzer.invoke(question)\n",
    "    if response.queryType == \"search\" or response.queryType == \"compare\":\n",
    "        if response.queryType == \"search\":\n",
    "            retriever = retrievers[response.person1]\n",
    "            retrieved_docs = retriever.invoke(response.query)\n",
    "\n",
    "            prompt = (\n",
    "            \"system :\"\n",
    "            \"You are an assistant for question-answering tasks. \"\n",
    "            \"Use the following pieces of retrieved context to answer \"\n",
    "            \"the question. If you don't know the answer, say that you \"\n",
    "            \"don't know.\"\n",
    "            \"\\n\\n\"\n",
    "            \"{context}\"\n",
    "            \"\\n\\n\"\n",
    "\n",
    "            \"human :\"\n",
    "            \"{question}\"\n",
    "            ).format(context=retrieved_docs, question=question)\n",
    "\n",
    "            result = llm.invoke(prompt)\n",
    "\n",
    "            return result\n",
    "    \n",
    "        elif response.queryType == \"compare\":\n",
    "            retriever1 = retrievers[response.person1]\n",
    "            retrieved_docs1 = retriever1.invoke(response.query)\n",
    "\n",
    "            if response.person2 != 'null':\n",
    "                retriever2 = retrievers[response.person2]\n",
    "                retrieved_docs2 = retriever2.invoke(response.query)\n",
    "            else:\n",
    "                retrieved_docs2 = ''\n",
    "\n",
    "            if response.person3 != 'null':\n",
    "                retriever3 = retrievers[response.person3]\n",
    "                retrieved_docs3 = retriever3.invoke(response.query)\n",
    "            else:\n",
    "                retrieved_docs3 = ''\n",
    "\n",
    "            prompt = (\n",
    "            \"system :\"\n",
    "            \"You are an assistant for comparing manifestos. \"\n",
    "            \"Use the following pieces of retrieved context from different manifestos to answer \"\n",
    "            \"the question. If you don't know the answer, say that you \"\n",
    "            \"don't know.\"\n",
    "            \"\\n\\n\"\n",
    "            \"{context1}\"\n",
    "            \"\\n\\n\"\n",
    "            \"{context2}\"\n",
    "            \"\\n\\n\"\n",
    "            \"{context3}\"\n",
    "            \"\\n\\n\"\n",
    "\n",
    "            \"human :\"\n",
    "            \"{question}\"\n",
    "            ).format(context1=retrieved_docs1, context2=retrieved_docs2, context3=retrieved_docs3, question=question)\n",
    "\n",
    "            result = llm.invoke(prompt)\n",
    "\n",
    "            return result\n",
    "    else:\n",
    "        retriever = retriever_general\n",
    "        retrieved_docs = retriever.invoke(response.query)\n",
    "\n",
    "        prompt = (\n",
    "            \"system :\"\n",
    "            \"You are an assistant for question-answering tasks related to srilankan election.\"\n",
    "            \"Use the following pieces of retrieved context to answer \"\n",
    "            \"the question. If you don't know the answer, say that you \"\n",
    "            \"don't know.\"\n",
    "            \"or if the question is not much related to srilankan election say that this question is not related to srilankan election ass a election chatbot i can't provide you with answer this.\"\n",
    "            \"\\n\\n\"\n",
    "            \"{context}\"\n",
    "            \"\\n\\n\"\n",
    "\n",
    "            \"human :\"\n",
    "            \"{question}\"\n",
    "            ).format(context=retrieved_docs, question=question)\n",
    "\n",
    "        result = llm.invoke(prompt)\n",
    "        return result"
   ]
  },
  {
   "cell_type": "code",
   "execution_count": 2,
   "metadata": {},
   "outputs": [
    {
     "name": "stdout",
     "output_type": "stream",
     "text": [
      "This question is not related to the Sri Lankan election. As an election chatbot, I can't provide you with an answer to this. \n",
      "\n"
     ]
    }
   ],
   "source": [
    "question = \"who is sajeev\"\n",
    "print(qa_chain.invoke(question).content)"
   ]
  },
  {
   "cell_type": "code",
   "execution_count": 7,
   "metadata": {},
   "outputs": [
    {
     "name": "stdout",
     "output_type": "stream",
     "text": [
      "This question is not related to Sri Lankan elections. As an election chatbot, I can't provide you with an answer to this. \n",
      "\n"
     ]
    }
   ],
   "source": [
    "question = \"who is the father of physics\"\n",
    "print(qa_chain.invoke(question).content)"
   ]
  },
  {
   "cell_type": "code",
   "execution_count": 8,
   "metadata": {},
   "outputs": [
    {
     "name": "stdout",
     "output_type": "stream",
     "text": [
      "The Sri Lankan presidential election is scheduled for **September 21, 2024**. \n",
      "\n"
     ]
    }
   ],
   "source": [
    "question = \"when is sl election\"\n",
    "print(qa_chain.invoke(question).content)"
   ]
  },
  {
   "cell_type": "code",
   "execution_count": 9,
   "metadata": {},
   "outputs": [
    {
     "name": "stdout",
     "output_type": "stream",
     "text": [
      "The Sri Lankan Presidential election is scheduled for 2024.  Here are some updates:\n",
      "\n",
      "* **Support for Ranil Wickremesinghe has surged:**  Recent polls show a significant increase in support for the incumbent President, Ranil Wickremesinghe.\n",
      "* **Close race between Premadasa and Dissanayake:** Sajith Premadasa (SJB) and Anura Kumara Dissanayake (NPP/JVP) are currently leading the polls, neck and neck.\n",
      "* **SLPP support remains low:** Support for a generic SLPP candidate remains unchanged at 4%, with Namal Rajapaksa only declaring his candidacy in August.\n",
      "* **Party crossovers and changes in political loyalties:**  There has been an unprecedented trend of party crossovers and changes in political loyalties, with many SLPP MPs switching sides to support Wickremesinghe, Premadasa, or Dilith Jayaweera's Mawbima Janatha Party (MJP).\n",
      "* **Manifestos released:**  Namal Rajapaksa has released his manifesto, \"Namal Dekma,\" while Sajith Premadasa is expected to release his manifesto, \"Win For All,\" soon.\n",
      "\n",
      "It is unlikely that a single candidate will win a clear majority in the first round of the election. \n",
      "\n"
     ]
    }
   ],
   "source": [
    "question = \"updates on sl election\"\n",
    "print(qa_chain.invoke(question).content)"
   ]
  },
  {
   "cell_type": "code",
   "execution_count": 3,
   "metadata": {},
   "outputs": [
    {
     "name": "stdout",
     "output_type": "stream",
     "text": [
      "Ranil is a presidential candidate in the Sri Lankan election. He is being criticized for his age and some of his statements. Some people believe he is not fit to be president, while others support him and believe he has a plan for the future of the country. \n",
      "\n"
     ]
    }
   ],
   "source": [
    "question = \"who is ranil\"\n",
    "print(qa_chain.invoke(question).content)"
   ]
  },
  {
   "cell_type": "code",
   "execution_count": 4,
   "metadata": {},
   "outputs": [
    {
     "name": "stdout",
     "output_type": "stream",
     "text": [
      "Sajith's manifesto focuses on revamping the education sector to build internationally competitive human capital.  Here are some key points:\n",
      "\n",
      "* **Digital Learning:** Expanding the \"Sakwala\" program to provide digital learning platforms in schools, technical and vocational institutions, and universities.\n",
      "* **Early Childhood Education (ECE):** Establishing a regulatory authority for ECE to develop responsible citizens.\n",
      "* **Teacher Support:** Providing free public transportation to all teachers across Sri Lanka and addressing salary, pension, and service issues.\n",
      "* **Smart Schools:** Transforming every school into a smart school by providing 100% electricity, water facilities, and physical resources.\n",
      "* **STEEAM Education:** Prioritizing Science, Technology, English, Engineering, Arts, and Mathematics in all institutions of education.\n",
      "* **University Reform:** Restructuring the University Grants Commission to address professional issues and strengthening the independence of the University.\n",
      "* **Vocational Training:** Modernizing and standardizing vocational training curricula to align with market demands.\n",
      "* **International Collaboration:** Fostering global partnerships, cultural exchange, and collaborative learning opportunities between schools.\n",
      "* **School Trust Funds:** Mandating that every school establish a trust fund supported by local communities to ensure the maintenance and sustainability of school facilities. \n",
      "\n"
     ]
    }
   ],
   "source": [
    "question = \"sajith's manifestos about education\"\n",
    "print(qa_chain.invoke(question).content)"
   ]
  },
  {
   "cell_type": "code",
   "execution_count": 6,
   "metadata": {},
   "outputs": [
    {
     "name": "stdout",
     "output_type": "stream",
     "text": [
      "Both Sajith and Anura prioritize education in their manifestos, but their approaches differ in focus and implementation. \n",
      "\n",
      "**Sajith's Manifesto:**\n",
      "\n",
      "* **Focus on accessibility and quality:** Sajith emphasizes making education accessible to all by providing free transportation for teachers, ensuring access to digital learning platforms, and upgrading infrastructure. He also aims to improve quality by reforming the Grade 5 Scholarship Exam, strengthening early childhood education, and promoting English language proficiency.\n",
      "* **Emphasis on STEM and digital skills:** Sajith proposes a \"STEEAM\" education system to prioritize Science, Technology, Engineering, Arts, and Mathematics, and plans to expedite teacher training in these areas. He also emphasizes digital learning and the use of technology in education.\n",
      "* **Specific initiatives:** Sajith outlines specific initiatives like the \"Sakwala\" program for digital learning, the \"Bim Saviya\" program for human capital development, and a monthly allowance for school-going girls.\n",
      "\n",
      "**Anura's Manifesto:**\n",
      "\n",
      "* **Focus on industry-relevant skills and innovation:** Anura emphasizes reforming engineering education to produce industry-ready practitioners and promoting innovation through R&D and startups. He also aims to attract foreign direct investment and global collaborations in the IT sector.\n",
      "* **Emphasis on workforce development:** Anura proposes increasing the IT workforce to 150,000 by 2030 through training programs and educational initiatives. He also emphasizes upskilling existing engineers and attracting foreign experts.\n",
      "* **Specific initiatives:** Anura outlines specific initiatives like a national AI policy, the establishment of IT parks and R&D centers, and incentive programs for IT companies.\n",
      "\n",
      "**In summary:**\n",
      "\n",
      "* **Sajith focuses on improving accessibility and quality of education for all, with a strong emphasis on STEM and digital skills.**\n",
      "* **Anura focuses on developing a skilled workforce for the IT sector and promoting innovation, with a focus on attracting foreign investment and collaboration.**\n",
      "\n",
      "Both manifestos highlight the importance of education for national development, but they differ in their specific priorities and approaches. \n",
      "\n"
     ]
    }
   ],
   "source": [
    "question = \"compare education policies of sajith and anura\"\n",
    "print(qa_chain.invoke(question).content)"
   ]
  }
 ],
 "metadata": {
  "kernelspec": {
   "display_name": "rag-llm",
   "language": "python",
   "name": "python3"
  },
  "language_info": {
   "codemirror_mode": {
    "name": "ipython",
    "version": 3
   },
   "file_extension": ".py",
   "mimetype": "text/x-python",
   "name": "python",
   "nbconvert_exporter": "python",
   "pygments_lexer": "ipython3",
   "version": "3.11.9"
  }
 },
 "nbformat": 4,
 "nbformat_minor": 2
}
