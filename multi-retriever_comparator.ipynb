{
 "cells": [
  {
   "cell_type": "code",
   "execution_count": 110,
   "metadata": {},
   "outputs": [],
   "source": [
    "from langchain_community.document_loaders import PyPDFLoader\n",
    "\n",
    "sajith_loader = PyPDFLoader(\"Sajith_manifesto_english.pdf\")\n",
    "sajith_data = sajith_loader.load()\n",
    "\n",
    "akd_loader = PyPDFLoader(\"AKD Manifesto.pdf\")\n",
    "akd_data = akd_loader.load()"
   ]
  },
  {
   "cell_type": "code",
   "execution_count": 111,
   "metadata": {},
   "outputs": [
    {
     "data": {
      "text/plain": [
       "Document(metadata={'source': 'AKD Manifesto.pdf', 'page': 12}, page_content='11\\nConcept Papers for Public Consultation ² Government Digitization: Initiate digitization projects in major government \\ninstitutions to improve efficiency and service delivery, aiming to create a more \\ntransparent and responsive public sector. This will include the deployment of \\ndigital platforms for citizen services, streamlining administrative processes, and \\nenhancing data management systems.\\nA special stream of support will be made available to Sri Lankan software \\ncompanies, new startups and joint-ventures with global leaders to be part of this \\nprogram. \\n ² Policy and Regulatory Framework: identify the issues in our existing policies \\nand bring in the new policies that are required to attract FDIs, intellectual property \\nrights, privacy & data, labor laws, bankruptcy, venture capital,  etc. \\n ² National AI Policy: Develop and implement a national AI policy, focusing \\non creating a national AI system to enhance government services and drive \\ntechnological innovation. This policy will set guidelines for ethical AI use, data \\nprivacy, and the integration of AI technologies in various public sectors.\\n2-3 Years\\n ² Human Resource Development: Implement training programs and educational \\ninitiatives to increase the IT workforce to 150,000 by 2030, focusing on skill \\ndevelopment and industry-relevant competencies by updating course content \\nto reflect the latest technological advancements and providing professional \\ndevelopment opportunities for educators. Upskill the existing engineers and \\nbring in foreign expert resources to conduct train-the-trainer programs.\\n ² Incentive Programs for IT Companies: Establish a comprehensive incentive \\nprogram to encourage IT companies to adopt R&D and innovation, increase \\nforeign earnings, and retain the IT workforce within the country. This program \\nwill offer tax incentives, grants, and support for collaborative projects, making \\nSri Lanka an attractive destination for IT investments and career opportunities.\\n ² Unicorn Creation: Initiate the program to develop IT unicorns through sustained \\ninvestment in innovation and entrepreneurship, creating globally recognized \\ncompanies. This will involve nurturing a supportive ecosystem, providing access \\nto capital, and facilitating international market entry. Globally recognised startup \\naccelerators will be invited to set up in Sri Lanka to nurture fledgling startups and \\nconnect them to global opportunities. \\n ² International Collaboration: Forge partnerships with global IT companies and \\nresearch institutions to bring advanced technologies and best practices to Sri \\nLanka, enhancing the country’s competitive edge. These collaborations will \\nfacilitate knowledge transfer, joint ventures, and access to new markets, boosting \\nthe growth of the IT sector.DIGITAL TECHNOLOGY')"
      ]
     },
     "execution_count": 111,
     "metadata": {},
     "output_type": "execute_result"
    }
   ],
   "source": [
    "akd_data[12]"
   ]
  },
  {
   "cell_type": "code",
   "execution_count": 112,
   "metadata": {},
   "outputs": [],
   "source": [
    "from langchain.text_splitter import RecursiveCharacterTextSplitter\n",
    "\n",
    "# split data\n",
    "text_splitter = RecursiveCharacterTextSplitter(chunk_size=500, chunk_overlap=100)\n",
    "\n",
    "sajith_docs = text_splitter.split_documents(sajith_data)\n",
    "akd_docs = text_splitter.split_documents(akd_data)"
   ]
  },
  {
   "cell_type": "code",
   "execution_count": 113,
   "metadata": {},
   "outputs": [
    {
     "data": {
      "text/plain": [
       "(224, 122)"
      ]
     },
     "execution_count": 113,
     "metadata": {},
     "output_type": "execute_result"
    }
   ],
   "source": [
    "len(sajith_docs), len(akd_docs)"
   ]
  },
  {
   "cell_type": "code",
   "execution_count": 114,
   "metadata": {},
   "outputs": [],
   "source": [
    "from langchain_chroma import Chroma\n",
    "from langchain_google_genai import GoogleGenerativeAIEmbeddings\n",
    "\n",
    "embeddings = GoogleGenerativeAIEmbeddings(model=\"models/embedding-001\")"
   ]
  },
  {
   "cell_type": "code",
   "execution_count": 115,
   "metadata": {},
   "outputs": [],
   "source": [
    "vectorstore = Chroma.from_documents(sajith_docs, embeddings, collection_name=\"sajith\")\n",
    "retriever_sajith = vectorstore.as_retriever(search_kwargs={\"k\": 10})"
   ]
  },
  {
   "cell_type": "code",
   "execution_count": 116,
   "metadata": {},
   "outputs": [],
   "source": [
    "vectorstore = Chroma.from_documents(akd_docs, embeddings, collection_name=\"anura_kumara_dissanayake\")\n",
    "retriever_akd = vectorstore.as_retriever(search_kwargs={\"k\": 10})"
   ]
  },
  {
   "cell_type": "code",
   "execution_count": 117,
   "metadata": {},
   "outputs": [],
   "source": [
    "from typing import List, Optional\n",
    "\n",
    "from langchain_core.pydantic_v1 import BaseModel, Field\n",
    "\n",
    "\n",
    "# class Search(BaseModel):\n",
    "#     \"\"\"Search for information about a person.\"\"\"\n",
    "\n",
    "#     query: str = Field(\n",
    "#         ...,\n",
    "#         description=\"Query to look up\",\n",
    "#     )\n",
    "#     person: str = Field(\n",
    "#         ...,\n",
    "#         description=\"Person to look things up for. Should be `sajith` or `anura_kumara_dissanayake`.\",\n",
    "#     )\n",
    "\n",
    "\n",
    "# class Compare(BaseModel):\n",
    "#     \"\"\"Search for information about a person.\"\"\"\n",
    "\n",
    "#     query: str = Field(\n",
    "#         ...,\n",
    "#         description=\"Query to compare\",\n",
    "#     )\n",
    "#     persons: list = Field(\n",
    "#         ...,\n",
    "#         description=\"Persons list to compare things up for. Should be `sajith` or `anura_kumara_dissanayake`.\",\n",
    "#     )\n",
    "\n",
    "class SearchAndCompare(BaseModel):\n",
    "    \"\"\"Search for information about a person or compare informations about persons.\"\"\"\n",
    "\n",
    "    queryType: str = Field(\n",
    "        ...,\n",
    "        description=\"Query type. Should be `search` or `compare`.\",)\n",
    "\n",
    "    query: str = Field(\n",
    "        ...,\n",
    "        description=\"Query to look up or query to compare\",\n",
    "    )\n",
    "\n",
    "    candidates: int = Field(\n",
    "        ...,\n",
    "        description=\"Number of persons to search or compare.\",\n",
    "    )\n",
    "\n",
    "    person1: str = Field(\n",
    "        ...,\n",
    "        description=\"Person to look things up for or persons to compare. Should be `sajith` or `anura_kumara_dissanayake` or `ranil` or can be 'null'.\",\n",
    "    )\n",
    "    person2: str = Field(\n",
    "        ...,\n",
    "        description=\"Person to look things up for or persons to compare. Should be `sajith` or `anura_kumara_dissanayake` or `ranil` or can be 'null'.\",\n",
    "    )\n",
    "    person3: str = Field(\n",
    "        ...,\n",
    "        description=\"Person to look things up for or persons to compare. Should be `sajith` or `anura_kumara_dissanayake` or `ranil` or can be 'null'.\",\n",
    "    )\n",
    "\n",
    "\n",
    "\n",
    "    # persons: str = Field(\n",
    "    #     ...,\n",
    "    #     description=\"should be in a format `[person1, person2, ...]`\",\n",
    "    # )"
   ]
  },
  {
   "cell_type": "code",
   "execution_count": 141,
   "metadata": {},
   "outputs": [],
   "source": [
    "from langchain_core.output_parsers.openai_tools import PydanticToolsParser\n",
    "from langchain_core.prompts import ChatPromptTemplate\n",
    "from langchain_core.runnables import RunnablePassthrough\n",
    "from langchain_google_genai import ChatGoogleGenerativeAI\n",
    "\n",
    "output_parser = PydanticToolsParser(tools=[Search, Compare])\n",
    "\n",
    "system = \"\"\"You have the ability to issue search queries or compare queries to get information to help answer user information.\"\"\"\n",
    "prompt = ChatPromptTemplate.from_messages(\n",
    "    [\n",
    "        (\"system\", system),\n",
    "        (\"human\", \"{question}\"),\n",
    "    ]\n",
    ")\n",
    "llm = ChatGoogleGenerativeAI(model=\"gemini-1.5-flash\",temperature=0.3, max_tokens=1000)\n",
    "structured_llm = llm.with_structured_output(SearchAndCompare)\n",
    "query_analyzer = {\"question\": RunnablePassthrough()} | prompt | structured_llm"
   ]
  },
  {
   "cell_type": "code",
   "execution_count": 119,
   "metadata": {},
   "outputs": [
    {
     "data": {
      "text/plain": [
       "SearchAndCompare(queryType='compare', query='sustainable growth', candidates=2, person1='anura_kumara_dissanayake', person2='sajith', person3='null')"
      ]
     },
     "execution_count": 119,
     "metadata": {},
     "output_type": "execute_result"
    }
   ],
   "source": [
    "query_analyzer.invoke(\"what does anura and sajith say about sustainable growth?\")"
   ]
  },
  {
   "cell_type": "code",
   "execution_count": 120,
   "metadata": {},
   "outputs": [],
   "source": [
    "from langchain_core.runnables import chain"
   ]
  },
  {
   "cell_type": "code",
   "execution_count": 121,
   "metadata": {},
   "outputs": [],
   "source": [
    "retrievers = {\n",
    "    \"sajith\": retriever_sajith,\n",
    "    \"anura_kumara_dissanayake\": retriever_akd,\n",
    "}"
   ]
  },
  {
   "cell_type": "code",
   "execution_count": 138,
   "metadata": {},
   "outputs": [],
   "source": [
    "@chain\n",
    "def searchAndCompareChain(question):\n",
    "    response = query_analyzer.invoke(question)\n",
    "    # print(response)\n",
    "\n",
    "    if response.queryType == \"search\":\n",
    "        retriever = retrievers[response.person1]\n",
    "        retrieved_docs = retriever.invoke(response.query)\n",
    "\n",
    "        prompt = (\n",
    "        \"system :\"\n",
    "        \"You are an assistant for question-answering tasks. \"\n",
    "        \"Use the following pieces of retrieved context to answer \"\n",
    "        \"the question. If you don't know the answer, say that you \"\n",
    "        \"don't know.\"\n",
    "        \"\\n\\n\"\n",
    "        \"{context}\"\n",
    "        \"\\n\\n\"\n",
    "\n",
    "        \"human :\"\n",
    "        \"{question}\"\n",
    "        ).format(context=retrieved_docs, question=question)\n",
    "\n",
    "        result = llm.invoke(prompt)\n",
    "\n",
    "        return result\n",
    "    \n",
    "    elif response.queryType == \"compare\":\n",
    "        retriever1 = retrievers[response.person1]\n",
    "        retrieved_docs1 = retriever1.invoke(response.query)\n",
    "\n",
    "        if response.person2 != 'null':\n",
    "            retriever2 = retrievers[response.person2]\n",
    "            retrieved_docs2 = retriever2.invoke(response.query)\n",
    "        else:\n",
    "            retrieved_docs2 = ''\n",
    "\n",
    "        if response.person3 != 'null':\n",
    "            retriever3 = retrievers[response.person3]\n",
    "            retrieved_docs3 = retriever3.invoke(response.query)\n",
    "        else:\n",
    "            retrieved_docs3 = ''\n",
    "\n",
    "        prompt = (\n",
    "        \"system :\"\n",
    "        \"You are an assistant for question-answering tasks. \"\n",
    "        \"Use the following pieces of retrieved context to answer \"\n",
    "        \"the question. If you don't know the answer, say that you \"\n",
    "        \"don't know.\"\n",
    "        \"\\n\\n\"\n",
    "        \"{context1}\"\n",
    "        \"\\n\\n\"\n",
    "        \"{context2}\"\n",
    "        \"\\n\\n\"\n",
    "        \"{context3}\"\n",
    "        \"\\n\\n\"\n",
    "\n",
    "        \"human :\"\n",
    "        \"{question}\"\n",
    "        ).format(context1=retrieved_docs1, context2=retrieved_docs2, context3=retrieved_docs3, question=question)\n",
    "\n",
    "        result = llm.invoke(prompt)\n",
    "\n",
    "        return result\n",
    "\n",
    "        \n",
    "        "
   ]
  },
  {
   "cell_type": "code",
   "execution_count": 142,
   "metadata": {},
   "outputs": [
    {
     "name": "stdout",
     "output_type": "stream",
     "text": [
      "The document mentions that Anura's manifesto focuses on sustainable energy sources and minimizing the impact of energy production on the environment. Sajith's manifesto focuses on a green economy and environmental sustainability as foundational principles for economic growth and development. \n",
      "\n"
     ]
    }
   ],
   "source": [
    "question = \"what does anura and sajith say about sustainable growth?\"\n",
    "result = searchAndCompareChain.invoke(question) \n",
    "print(result.content)"
   ]
  }
 ],
 "metadata": {
  "kernelspec": {
   "display_name": "rag-llm",
   "language": "python",
   "name": "python3"
  },
  "language_info": {
   "codemirror_mode": {
    "name": "ipython",
    "version": 3
   },
   "file_extension": ".py",
   "mimetype": "text/x-python",
   "name": "python",
   "nbconvert_exporter": "python",
   "pygments_lexer": "ipython3",
   "version": "3.11.9"
  }
 },
 "nbformat": 4,
 "nbformat_minor": 2
}
